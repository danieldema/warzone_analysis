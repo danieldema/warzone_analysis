{
 "cells": [
  {
   "cell_type": "code",
   "execution_count": 564,
   "id": "07959ce9-9e44-442c-8c6c-727adb383542",
   "metadata": {},
   "outputs": [
    {
     "name": "stderr",
     "output_type": "stream",
     "text": [
      "[nltk_data] Downloading package vader_lexicon to\n",
      "[nltk_data]     d:\\Daniel\\AppData\\Roaming\\nltk_data...\n",
      "[nltk_data]   Package vader_lexicon is already up-to-date!\n"
     ]
    }
   ],
   "source": [
    "import steamreviews\n",
    "import pandas as pd\n",
    "from nltk.sentiment import SentimentIntensityAnalyzer\n",
    "import matplotlib\n",
    "import matplotlib.pyplot as plt\n",
    "\n",
    "try:\n",
    "    nltk.data.find('sentiment/vader_lexicon')\n",
    "except LookupError:\n",
    "    nltk.download('vader_lexicon')\n",
    "\n",
    "import warnings\n",
    "warnings.simplefilter(action='ignore', category=pd.errors.SettingWithCopyWarning)\n",
    "warnings.simplefilter(action='ignore', category=FutureWarning)"
   ]
  },
  {
   "cell_type": "code",
   "execution_count": 566,
   "id": "dcf91274-66a3-4f73-9319-6d14435d077f",
   "metadata": {},
   "outputs": [],
   "source": [
    "app_id = 1962663"
   ]
  },
  {
   "cell_type": "code",
   "execution_count": 568,
   "id": "25f39983-7e69-48b6-b26a-9cb42ed70b19",
   "metadata": {},
   "outputs": [],
   "source": [
    "request_params = dict()\n",
    "request_params['filter'] = 'recent'\n",
    "request_params['day_range'] = '63'"
   ]
  },
  {
   "cell_type": "code",
   "execution_count": 570,
   "id": "baef6874-e405-4a18-92b2-7426599770f0",
   "metadata": {},
   "outputs": [
    {
     "name": "stdout",
     "output_type": "stream",
     "text": [
      "[appID = 1962663] expected #reviews = 44289\n"
     ]
    }
   ],
   "source": [
    "review_dict, query_count = steamreviews.download_reviews_for_app_id(app_id,\n",
    "                                                                    chosen_request_params=request_params)"
   ]
  },
  {
   "cell_type": "code",
   "execution_count": 572,
   "id": "dbb0c838-dc1f-4b20-9aec-a66a7c5e4b49",
   "metadata": {},
   "outputs": [],
   "source": [
    "df = pd.DataFrame(review_dict['reviews']).T"
   ]
  },
  {
   "cell_type": "code",
   "execution_count": 574,
   "id": "cef4f9ce-4baa-4124-aeb1-51c35b18e336",
   "metadata": {},
   "outputs": [
    {
     "data": {
      "text/html": [
       "<div>\n",
       "<style scoped>\n",
       "    .dataframe tbody tr th:only-of-type {\n",
       "        vertical-align: middle;\n",
       "    }\n",
       "\n",
       "    .dataframe tbody tr th {\n",
       "        vertical-align: top;\n",
       "    }\n",
       "\n",
       "    .dataframe thead th {\n",
       "        text-align: right;\n",
       "    }\n",
       "</style>\n",
       "<table border=\"1\" class=\"dataframe\">\n",
       "  <thead>\n",
       "    <tr style=\"text-align: right;\">\n",
       "      <th></th>\n",
       "      <th>recommendationid</th>\n",
       "      <th>author</th>\n",
       "      <th>language</th>\n",
       "      <th>review</th>\n",
       "      <th>timestamp_created</th>\n",
       "      <th>timestamp_updated</th>\n",
       "      <th>voted_up</th>\n",
       "      <th>votes_up</th>\n",
       "      <th>votes_funny</th>\n",
       "      <th>weighted_vote_score</th>\n",
       "      <th>comment_count</th>\n",
       "      <th>steam_purchase</th>\n",
       "      <th>received_for_free</th>\n",
       "      <th>written_during_early_access</th>\n",
       "      <th>primarily_steam_deck</th>\n",
       "    </tr>\n",
       "  </thead>\n",
       "  <tbody>\n",
       "    <tr>\n",
       "      <th>193380021</th>\n",
       "      <td>193380021</td>\n",
       "      <td>{'steamid': '76561199767744028', 'num_games_ow...</td>\n",
       "      <td>english</td>\n",
       "      <td>became poopy after bruce willis operator but R...</td>\n",
       "      <td>1745372828</td>\n",
       "      <td>1745372828</td>\n",
       "      <td>True</td>\n",
       "      <td>0</td>\n",
       "      <td>0</td>\n",
       "      <td>0.5</td>\n",
       "      <td>0</td>\n",
       "      <td>False</td>\n",
       "      <td>False</td>\n",
       "      <td>False</td>\n",
       "      <td>False</td>\n",
       "    </tr>\n",
       "    <tr>\n",
       "      <th>193379949</th>\n",
       "      <td>193379949</td>\n",
       "      <td>{'steamid': '76561198995345965', 'num_games_ow...</td>\n",
       "      <td>turkish</td>\n",
       "      <td>ULAN OROSPUNUN EVLADI MADEM OYNAMAMA İZİN VERM...</td>\n",
       "      <td>1745372736</td>\n",
       "      <td>1745372736</td>\n",
       "      <td>False</td>\n",
       "      <td>0</td>\n",
       "      <td>0</td>\n",
       "      <td>0.5</td>\n",
       "      <td>0</td>\n",
       "      <td>False</td>\n",
       "      <td>False</td>\n",
       "      <td>False</td>\n",
       "      <td>False</td>\n",
       "    </tr>\n",
       "    <tr>\n",
       "      <th>193378215</th>\n",
       "      <td>193378215</td>\n",
       "      <td>{'steamid': '76561198433304390', 'num_games_ow...</td>\n",
       "      <td>english</td>\n",
       "      <td>Diz gaime iz definetwy cawwuv doody wohwzone</td>\n",
       "      <td>1745370494</td>\n",
       "      <td>1745370494</td>\n",
       "      <td>True</td>\n",
       "      <td>0</td>\n",
       "      <td>0</td>\n",
       "      <td>0.5</td>\n",
       "      <td>0</td>\n",
       "      <td>True</td>\n",
       "      <td>False</td>\n",
       "      <td>False</td>\n",
       "      <td>False</td>\n",
       "    </tr>\n",
       "    <tr>\n",
       "      <th>193373294</th>\n",
       "      <td>193373294</td>\n",
       "      <td>{'steamid': '76561198885593603', 'num_games_ow...</td>\n",
       "      <td>english</td>\n",
       "      <td>kinda shit</td>\n",
       "      <td>1745364373</td>\n",
       "      <td>1745364373</td>\n",
       "      <td>True</td>\n",
       "      <td>0</td>\n",
       "      <td>0</td>\n",
       "      <td>0.5</td>\n",
       "      <td>0</td>\n",
       "      <td>True</td>\n",
       "      <td>False</td>\n",
       "      <td>False</td>\n",
       "      <td>False</td>\n",
       "    </tr>\n",
       "    <tr>\n",
       "      <th>193369426</th>\n",
       "      <td>193369426</td>\n",
       "      <td>{'steamid': '76561198035619390', 'num_games_ow...</td>\n",
       "      <td>english</td>\n",
       "      <td>This game runs poorly, is slow, clunky, full o...</td>\n",
       "      <td>1745360218</td>\n",
       "      <td>1745360218</td>\n",
       "      <td>False</td>\n",
       "      <td>1</td>\n",
       "      <td>0</td>\n",
       "      <td>0.523809552192687988</td>\n",
       "      <td>0</td>\n",
       "      <td>False</td>\n",
       "      <td>False</td>\n",
       "      <td>False</td>\n",
       "      <td>False</td>\n",
       "    </tr>\n",
       "  </tbody>\n",
       "</table>\n",
       "</div>"
      ],
      "text/plain": [
       "          recommendationid                                             author  \\\n",
       "193380021        193380021  {'steamid': '76561199767744028', 'num_games_ow...   \n",
       "193379949        193379949  {'steamid': '76561198995345965', 'num_games_ow...   \n",
       "193378215        193378215  {'steamid': '76561198433304390', 'num_games_ow...   \n",
       "193373294        193373294  {'steamid': '76561198885593603', 'num_games_ow...   \n",
       "193369426        193369426  {'steamid': '76561198035619390', 'num_games_ow...   \n",
       "\n",
       "          language                                             review  \\\n",
       "193380021  english  became poopy after bruce willis operator but R...   \n",
       "193379949  turkish  ULAN OROSPUNUN EVLADI MADEM OYNAMAMA İZİN VERM...   \n",
       "193378215  english       Diz gaime iz definetwy cawwuv doody wohwzone   \n",
       "193373294  english                                         kinda shit   \n",
       "193369426  english  This game runs poorly, is slow, clunky, full o...   \n",
       "\n",
       "          timestamp_created timestamp_updated voted_up votes_up votes_funny  \\\n",
       "193380021        1745372828        1745372828     True        0           0   \n",
       "193379949        1745372736        1745372736    False        0           0   \n",
       "193378215        1745370494        1745370494     True        0           0   \n",
       "193373294        1745364373        1745364373     True        0           0   \n",
       "193369426        1745360218        1745360218    False        1           0   \n",
       "\n",
       "            weighted_vote_score comment_count steam_purchase  \\\n",
       "193380021                   0.5             0          False   \n",
       "193379949                   0.5             0          False   \n",
       "193378215                   0.5             0           True   \n",
       "193373294                   0.5             0           True   \n",
       "193369426  0.523809552192687988             0          False   \n",
       "\n",
       "          received_for_free written_during_early_access primarily_steam_deck  \n",
       "193380021             False                       False                False  \n",
       "193379949             False                       False                False  \n",
       "193378215             False                       False                False  \n",
       "193373294             False                       False                False  \n",
       "193369426             False                       False                False  "
      ]
     },
     "execution_count": 574,
     "metadata": {},
     "output_type": "execute_result"
    }
   ],
   "source": [
    "df.head()"
   ]
  },
  {
   "cell_type": "code",
   "execution_count": 576,
   "id": "22dc162f-7f37-404e-806c-6cd53633a146",
   "metadata": {},
   "outputs": [],
   "source": [
    "df['timestamp_created'] = pd.to_datetime(df['timestamp_created'], unit='s')"
   ]
  },
  {
   "cell_type": "code",
   "execution_count": 578,
   "id": "3eb23e4c-c0ad-4c95-bf6f-aac63f55681f",
   "metadata": {},
   "outputs": [],
   "source": [
    "df = df.loc[df['language'] == 'english']"
   ]
  },
  {
   "cell_type": "code",
   "execution_count": 580,
   "id": "fb9061bd-f1f2-4219-b55f-e8b02c7ed290",
   "metadata": {},
   "outputs": [
    {
     "data": {
      "text/plain": [
       "(1117, 15)"
      ]
     },
     "execution_count": 580,
     "metadata": {},
     "output_type": "execute_result"
    }
   ],
   "source": [
    "df.shape"
   ]
  },
  {
   "cell_type": "code",
   "execution_count": 582,
   "id": "1ea88c25-dcf0-45aa-9677-26cf60bec7e1",
   "metadata": {},
   "outputs": [
    {
     "data": {
      "text/html": [
       "<div>\n",
       "<style scoped>\n",
       "    .dataframe tbody tr th:only-of-type {\n",
       "        vertical-align: middle;\n",
       "    }\n",
       "\n",
       "    .dataframe tbody tr th {\n",
       "        vertical-align: top;\n",
       "    }\n",
       "\n",
       "    .dataframe thead th {\n",
       "        text-align: right;\n",
       "    }\n",
       "</style>\n",
       "<table border=\"1\" class=\"dataframe\">\n",
       "  <thead>\n",
       "    <tr style=\"text-align: right;\">\n",
       "      <th></th>\n",
       "      <th>recommendationid</th>\n",
       "      <th>author</th>\n",
       "      <th>language</th>\n",
       "      <th>review</th>\n",
       "      <th>timestamp_created</th>\n",
       "      <th>timestamp_updated</th>\n",
       "      <th>voted_up</th>\n",
       "      <th>votes_up</th>\n",
       "      <th>votes_funny</th>\n",
       "      <th>weighted_vote_score</th>\n",
       "      <th>comment_count</th>\n",
       "      <th>steam_purchase</th>\n",
       "      <th>received_for_free</th>\n",
       "      <th>written_during_early_access</th>\n",
       "      <th>primarily_steam_deck</th>\n",
       "    </tr>\n",
       "  </thead>\n",
       "  <tbody>\n",
       "    <tr>\n",
       "      <th>193380021</th>\n",
       "      <td>193380021</td>\n",
       "      <td>{'steamid': '76561199767744028', 'num_games_ow...</td>\n",
       "      <td>english</td>\n",
       "      <td>became poopy after bruce willis operator but R...</td>\n",
       "      <td>2025-04-23 01:47:08</td>\n",
       "      <td>1745372828</td>\n",
       "      <td>True</td>\n",
       "      <td>0</td>\n",
       "      <td>0</td>\n",
       "      <td>0.5</td>\n",
       "      <td>0</td>\n",
       "      <td>False</td>\n",
       "      <td>False</td>\n",
       "      <td>False</td>\n",
       "      <td>False</td>\n",
       "    </tr>\n",
       "    <tr>\n",
       "      <th>193378215</th>\n",
       "      <td>193378215</td>\n",
       "      <td>{'steamid': '76561198433304390', 'num_games_ow...</td>\n",
       "      <td>english</td>\n",
       "      <td>Diz gaime iz definetwy cawwuv doody wohwzone</td>\n",
       "      <td>2025-04-23 01:08:14</td>\n",
       "      <td>1745370494</td>\n",
       "      <td>True</td>\n",
       "      <td>0</td>\n",
       "      <td>0</td>\n",
       "      <td>0.5</td>\n",
       "      <td>0</td>\n",
       "      <td>True</td>\n",
       "      <td>False</td>\n",
       "      <td>False</td>\n",
       "      <td>False</td>\n",
       "    </tr>\n",
       "    <tr>\n",
       "      <th>193373294</th>\n",
       "      <td>193373294</td>\n",
       "      <td>{'steamid': '76561198885593603', 'num_games_ow...</td>\n",
       "      <td>english</td>\n",
       "      <td>kinda shit</td>\n",
       "      <td>2025-04-22 23:26:13</td>\n",
       "      <td>1745364373</td>\n",
       "      <td>True</td>\n",
       "      <td>0</td>\n",
       "      <td>0</td>\n",
       "      <td>0.5</td>\n",
       "      <td>0</td>\n",
       "      <td>True</td>\n",
       "      <td>False</td>\n",
       "      <td>False</td>\n",
       "      <td>False</td>\n",
       "    </tr>\n",
       "    <tr>\n",
       "      <th>193369426</th>\n",
       "      <td>193369426</td>\n",
       "      <td>{'steamid': '76561198035619390', 'num_games_ow...</td>\n",
       "      <td>english</td>\n",
       "      <td>This game runs poorly, is slow, clunky, full o...</td>\n",
       "      <td>2025-04-22 22:16:58</td>\n",
       "      <td>1745360218</td>\n",
       "      <td>False</td>\n",
       "      <td>1</td>\n",
       "      <td>0</td>\n",
       "      <td>0.523809552192687988</td>\n",
       "      <td>0</td>\n",
       "      <td>False</td>\n",
       "      <td>False</td>\n",
       "      <td>False</td>\n",
       "      <td>False</td>\n",
       "    </tr>\n",
       "    <tr>\n",
       "      <th>193362617</th>\n",
       "      <td>193362617</td>\n",
       "      <td>{'steamid': '76561199662867468', 'num_games_ow...</td>\n",
       "      <td>english</td>\n",
       "      <td>This game is so bad there should be reason you...</td>\n",
       "      <td>2025-04-22 20:24:01</td>\n",
       "      <td>1745353441</td>\n",
       "      <td>True</td>\n",
       "      <td>0</td>\n",
       "      <td>0</td>\n",
       "      <td>0.5</td>\n",
       "      <td>0</td>\n",
       "      <td>False</td>\n",
       "      <td>False</td>\n",
       "      <td>False</td>\n",
       "      <td>False</td>\n",
       "    </tr>\n",
       "  </tbody>\n",
       "</table>\n",
       "</div>"
      ],
      "text/plain": [
       "          recommendationid                                             author  \\\n",
       "193380021        193380021  {'steamid': '76561199767744028', 'num_games_ow...   \n",
       "193378215        193378215  {'steamid': '76561198433304390', 'num_games_ow...   \n",
       "193373294        193373294  {'steamid': '76561198885593603', 'num_games_ow...   \n",
       "193369426        193369426  {'steamid': '76561198035619390', 'num_games_ow...   \n",
       "193362617        193362617  {'steamid': '76561199662867468', 'num_games_ow...   \n",
       "\n",
       "          language                                             review  \\\n",
       "193380021  english  became poopy after bruce willis operator but R...   \n",
       "193378215  english       Diz gaime iz definetwy cawwuv doody wohwzone   \n",
       "193373294  english                                         kinda shit   \n",
       "193369426  english  This game runs poorly, is slow, clunky, full o...   \n",
       "193362617  english  This game is so bad there should be reason you...   \n",
       "\n",
       "            timestamp_created timestamp_updated voted_up votes_up votes_funny  \\\n",
       "193380021 2025-04-23 01:47:08        1745372828     True        0           0   \n",
       "193378215 2025-04-23 01:08:14        1745370494     True        0           0   \n",
       "193373294 2025-04-22 23:26:13        1745364373     True        0           0   \n",
       "193369426 2025-04-22 22:16:58        1745360218    False        1           0   \n",
       "193362617 2025-04-22 20:24:01        1745353441     True        0           0   \n",
       "\n",
       "            weighted_vote_score comment_count steam_purchase  \\\n",
       "193380021                   0.5             0          False   \n",
       "193378215                   0.5             0           True   \n",
       "193373294                   0.5             0           True   \n",
       "193369426  0.523809552192687988             0          False   \n",
       "193362617                   0.5             0          False   \n",
       "\n",
       "          received_for_free written_during_early_access primarily_steam_deck  \n",
       "193380021             False                       False                False  \n",
       "193378215             False                       False                False  \n",
       "193373294             False                       False                False  \n",
       "193369426             False                       False                False  \n",
       "193362617             False                       False                False  "
      ]
     },
     "execution_count": 582,
     "metadata": {},
     "output_type": "execute_result"
    }
   ],
   "source": [
    "df.head()"
   ]
  },
  {
   "cell_type": "code",
   "execution_count": 584,
   "id": "94012fdd-0bc7-4b16-aa6c-76acab048224",
   "metadata": {},
   "outputs": [],
   "source": [
    "split_one = pd.to_datetime('2025-03-03 00:00:00')\n",
    "split_two = pd.to_datetime('2025-04-03 00:00:00')\n",
    "split_three = pd.to_datetime('2025-05-03 00:00:00')\n",
    "\n",
    "df_pre = df.loc[(df['timestamp_created'] >= split_one) & (df['timestamp_created'] < split_two)]\n",
    "df_post = df.loc[(df['timestamp_created'] >= split_two) & (df['timestamp_created'] < split_three)]"
   ]
  },
  {
   "cell_type": "code",
   "execution_count": 586,
   "id": "e5232ab8-737f-46de-bcb0-91eb7add8805",
   "metadata": {},
   "outputs": [
    {
     "data": {
      "text/plain": [
       "(296, 15)"
      ]
     },
     "execution_count": 586,
     "metadata": {},
     "output_type": "execute_result"
    }
   ],
   "source": [
    "df_pre.shape"
   ]
  },
  {
   "cell_type": "code",
   "execution_count": 588,
   "id": "4f115f97-e311-45fb-a8a4-d094567ac77e",
   "metadata": {},
   "outputs": [
    {
     "data": {
      "text/plain": [
       "(778, 15)"
      ]
     },
     "execution_count": 588,
     "metadata": {},
     "output_type": "execute_result"
    }
   ],
   "source": [
    "df_post.shape"
   ]
  },
  {
   "cell_type": "code",
   "execution_count": 590,
   "id": "e01153df-6e8e-4b12-bf90-d34137e926a5",
   "metadata": {},
   "outputs": [
    {
     "data": {
      "text/html": [
       "<div>\n",
       "<style scoped>\n",
       "    .dataframe tbody tr th:only-of-type {\n",
       "        vertical-align: middle;\n",
       "    }\n",
       "\n",
       "    .dataframe tbody tr th {\n",
       "        vertical-align: top;\n",
       "    }\n",
       "\n",
       "    .dataframe thead th {\n",
       "        text-align: right;\n",
       "    }\n",
       "</style>\n",
       "<table border=\"1\" class=\"dataframe\">\n",
       "  <thead>\n",
       "    <tr style=\"text-align: right;\">\n",
       "      <th></th>\n",
       "      <th>recommendationid</th>\n",
       "      <th>author</th>\n",
       "      <th>language</th>\n",
       "      <th>review</th>\n",
       "      <th>timestamp_created</th>\n",
       "      <th>timestamp_updated</th>\n",
       "      <th>voted_up</th>\n",
       "      <th>votes_up</th>\n",
       "      <th>votes_funny</th>\n",
       "      <th>weighted_vote_score</th>\n",
       "      <th>comment_count</th>\n",
       "      <th>steam_purchase</th>\n",
       "      <th>received_for_free</th>\n",
       "      <th>written_during_early_access</th>\n",
       "      <th>primarily_steam_deck</th>\n",
       "    </tr>\n",
       "  </thead>\n",
       "  <tbody>\n",
       "    <tr>\n",
       "      <th>191837413</th>\n",
       "      <td>191837413</td>\n",
       "      <td>{'steamid': '76561199215827822', 'num_games_ow...</td>\n",
       "      <td>english</td>\n",
       "      <td>As someone who loved this game so much during ...</td>\n",
       "      <td>2025-04-02 23:06:14</td>\n",
       "      <td>1743635174</td>\n",
       "      <td>False</td>\n",
       "      <td>8</td>\n",
       "      <td>0</td>\n",
       "      <td>0.546569526195526123</td>\n",
       "      <td>0</td>\n",
       "      <td>False</td>\n",
       "      <td>False</td>\n",
       "      <td>False</td>\n",
       "      <td>False</td>\n",
       "    </tr>\n",
       "    <tr>\n",
       "      <th>191832304</th>\n",
       "      <td>191832304</td>\n",
       "      <td>{'steamid': '76561198108831637', 'num_games_ow...</td>\n",
       "      <td>english</td>\n",
       "      <td>This game is making me [h1] RACIST [/h1]</td>\n",
       "      <td>2025-04-02 21:35:22</td>\n",
       "      <td>1743629722</td>\n",
       "      <td>False</td>\n",
       "      <td>11</td>\n",
       "      <td>16</td>\n",
       "      <td>0.54558110237121582</td>\n",
       "      <td>0</td>\n",
       "      <td>False</td>\n",
       "      <td>False</td>\n",
       "      <td>False</td>\n",
       "      <td>False</td>\n",
       "    </tr>\n",
       "    <tr>\n",
       "      <th>191829404</th>\n",
       "      <td>191829404</td>\n",
       "      <td>{'steamid': '76561199567940873', 'num_games_ow...</td>\n",
       "      <td>english</td>\n",
       "      <td>I like it but is so frustraiting</td>\n",
       "      <td>2025-04-02 20:49:27</td>\n",
       "      <td>1743626967</td>\n",
       "      <td>True</td>\n",
       "      <td>2</td>\n",
       "      <td>0</td>\n",
       "      <td>0.512195169925689697</td>\n",
       "      <td>0</td>\n",
       "      <td>False</td>\n",
       "      <td>False</td>\n",
       "      <td>False</td>\n",
       "      <td>False</td>\n",
       "    </tr>\n",
       "    <tr>\n",
       "      <th>191818665</th>\n",
       "      <td>191818665</td>\n",
       "      <td>{'steamid': '76561197986818386', 'num_games_ow...</td>\n",
       "      <td>english</td>\n",
       "      <td>WOW DELEVOPERS!!!! ITS SO FANTASTIC, ITS SO SU...</td>\n",
       "      <td>2025-04-02 18:04:18</td>\n",
       "      <td>1743617058</td>\n",
       "      <td>True</td>\n",
       "      <td>2</td>\n",
       "      <td>4</td>\n",
       "      <td>0.478260844945907593</td>\n",
       "      <td>0</td>\n",
       "      <td>False</td>\n",
       "      <td>False</td>\n",
       "      <td>False</td>\n",
       "      <td>False</td>\n",
       "    </tr>\n",
       "    <tr>\n",
       "      <th>191763534</th>\n",
       "      <td>191763534</td>\n",
       "      <td>{'steamid': '76561198261735097', 'num_games_ow...</td>\n",
       "      <td>english</td>\n",
       "      <td>If you try to get warzone and just want warzon...</td>\n",
       "      <td>2025-04-01 23:36:36</td>\n",
       "      <td>1743550596</td>\n",
       "      <td>False</td>\n",
       "      <td>6</td>\n",
       "      <td>0</td>\n",
       "      <td>0.534599602222442627</td>\n",
       "      <td>0</td>\n",
       "      <td>False</td>\n",
       "      <td>False</td>\n",
       "      <td>False</td>\n",
       "      <td>False</td>\n",
       "    </tr>\n",
       "  </tbody>\n",
       "</table>\n",
       "</div>"
      ],
      "text/plain": [
       "          recommendationid                                             author  \\\n",
       "191837413        191837413  {'steamid': '76561199215827822', 'num_games_ow...   \n",
       "191832304        191832304  {'steamid': '76561198108831637', 'num_games_ow...   \n",
       "191829404        191829404  {'steamid': '76561199567940873', 'num_games_ow...   \n",
       "191818665        191818665  {'steamid': '76561197986818386', 'num_games_ow...   \n",
       "191763534        191763534  {'steamid': '76561198261735097', 'num_games_ow...   \n",
       "\n",
       "          language                                             review  \\\n",
       "191837413  english  As someone who loved this game so much during ...   \n",
       "191832304  english           This game is making me [h1] RACIST [/h1]   \n",
       "191829404  english                   I like it but is so frustraiting   \n",
       "191818665  english  WOW DELEVOPERS!!!! ITS SO FANTASTIC, ITS SO SU...   \n",
       "191763534  english  If you try to get warzone and just want warzon...   \n",
       "\n",
       "            timestamp_created timestamp_updated voted_up votes_up votes_funny  \\\n",
       "191837413 2025-04-02 23:06:14        1743635174    False        8           0   \n",
       "191832304 2025-04-02 21:35:22        1743629722    False       11          16   \n",
       "191829404 2025-04-02 20:49:27        1743626967     True        2           0   \n",
       "191818665 2025-04-02 18:04:18        1743617058     True        2           4   \n",
       "191763534 2025-04-01 23:36:36        1743550596    False        6           0   \n",
       "\n",
       "            weighted_vote_score comment_count steam_purchase  \\\n",
       "191837413  0.546569526195526123             0          False   \n",
       "191832304   0.54558110237121582             0          False   \n",
       "191829404  0.512195169925689697             0          False   \n",
       "191818665  0.478260844945907593             0          False   \n",
       "191763534  0.534599602222442627             0          False   \n",
       "\n",
       "          received_for_free written_during_early_access primarily_steam_deck  \n",
       "191837413             False                       False                False  \n",
       "191832304             False                       False                False  \n",
       "191829404             False                       False                False  \n",
       "191818665             False                       False                False  \n",
       "191763534             False                       False                False  "
      ]
     },
     "execution_count": 590,
     "metadata": {},
     "output_type": "execute_result"
    }
   ],
   "source": [
    "df_pre.head()"
   ]
  },
  {
   "cell_type": "code",
   "execution_count": 592,
   "id": "9c8124d1-d3a9-4e2f-a9c1-14e9ec6283ca",
   "metadata": {},
   "outputs": [
    {
     "data": {
      "text/html": [
       "<div>\n",
       "<style scoped>\n",
       "    .dataframe tbody tr th:only-of-type {\n",
       "        vertical-align: middle;\n",
       "    }\n",
       "\n",
       "    .dataframe tbody tr th {\n",
       "        vertical-align: top;\n",
       "    }\n",
       "\n",
       "    .dataframe thead th {\n",
       "        text-align: right;\n",
       "    }\n",
       "</style>\n",
       "<table border=\"1\" class=\"dataframe\">\n",
       "  <thead>\n",
       "    <tr style=\"text-align: right;\">\n",
       "      <th></th>\n",
       "      <th>recommendationid</th>\n",
       "      <th>author</th>\n",
       "      <th>language</th>\n",
       "      <th>review</th>\n",
       "      <th>timestamp_created</th>\n",
       "      <th>timestamp_updated</th>\n",
       "      <th>voted_up</th>\n",
       "      <th>votes_up</th>\n",
       "      <th>votes_funny</th>\n",
       "      <th>weighted_vote_score</th>\n",
       "      <th>comment_count</th>\n",
       "      <th>steam_purchase</th>\n",
       "      <th>received_for_free</th>\n",
       "      <th>written_during_early_access</th>\n",
       "      <th>primarily_steam_deck</th>\n",
       "    </tr>\n",
       "  </thead>\n",
       "  <tbody>\n",
       "    <tr>\n",
       "      <th>193380021</th>\n",
       "      <td>193380021</td>\n",
       "      <td>{'steamid': '76561199767744028', 'num_games_ow...</td>\n",
       "      <td>english</td>\n",
       "      <td>became poopy after bruce willis operator but R...</td>\n",
       "      <td>2025-04-23 01:47:08</td>\n",
       "      <td>1745372828</td>\n",
       "      <td>True</td>\n",
       "      <td>0</td>\n",
       "      <td>0</td>\n",
       "      <td>0.5</td>\n",
       "      <td>0</td>\n",
       "      <td>False</td>\n",
       "      <td>False</td>\n",
       "      <td>False</td>\n",
       "      <td>False</td>\n",
       "    </tr>\n",
       "    <tr>\n",
       "      <th>193378215</th>\n",
       "      <td>193378215</td>\n",
       "      <td>{'steamid': '76561198433304390', 'num_games_ow...</td>\n",
       "      <td>english</td>\n",
       "      <td>Diz gaime iz definetwy cawwuv doody wohwzone</td>\n",
       "      <td>2025-04-23 01:08:14</td>\n",
       "      <td>1745370494</td>\n",
       "      <td>True</td>\n",
       "      <td>0</td>\n",
       "      <td>0</td>\n",
       "      <td>0.5</td>\n",
       "      <td>0</td>\n",
       "      <td>True</td>\n",
       "      <td>False</td>\n",
       "      <td>False</td>\n",
       "      <td>False</td>\n",
       "    </tr>\n",
       "    <tr>\n",
       "      <th>193373294</th>\n",
       "      <td>193373294</td>\n",
       "      <td>{'steamid': '76561198885593603', 'num_games_ow...</td>\n",
       "      <td>english</td>\n",
       "      <td>kinda shit</td>\n",
       "      <td>2025-04-22 23:26:13</td>\n",
       "      <td>1745364373</td>\n",
       "      <td>True</td>\n",
       "      <td>0</td>\n",
       "      <td>0</td>\n",
       "      <td>0.5</td>\n",
       "      <td>0</td>\n",
       "      <td>True</td>\n",
       "      <td>False</td>\n",
       "      <td>False</td>\n",
       "      <td>False</td>\n",
       "    </tr>\n",
       "    <tr>\n",
       "      <th>193369426</th>\n",
       "      <td>193369426</td>\n",
       "      <td>{'steamid': '76561198035619390', 'num_games_ow...</td>\n",
       "      <td>english</td>\n",
       "      <td>This game runs poorly, is slow, clunky, full o...</td>\n",
       "      <td>2025-04-22 22:16:58</td>\n",
       "      <td>1745360218</td>\n",
       "      <td>False</td>\n",
       "      <td>1</td>\n",
       "      <td>0</td>\n",
       "      <td>0.523809552192687988</td>\n",
       "      <td>0</td>\n",
       "      <td>False</td>\n",
       "      <td>False</td>\n",
       "      <td>False</td>\n",
       "      <td>False</td>\n",
       "    </tr>\n",
       "    <tr>\n",
       "      <th>193362617</th>\n",
       "      <td>193362617</td>\n",
       "      <td>{'steamid': '76561199662867468', 'num_games_ow...</td>\n",
       "      <td>english</td>\n",
       "      <td>This game is so bad there should be reason you...</td>\n",
       "      <td>2025-04-22 20:24:01</td>\n",
       "      <td>1745353441</td>\n",
       "      <td>True</td>\n",
       "      <td>0</td>\n",
       "      <td>0</td>\n",
       "      <td>0.5</td>\n",
       "      <td>0</td>\n",
       "      <td>False</td>\n",
       "      <td>False</td>\n",
       "      <td>False</td>\n",
       "      <td>False</td>\n",
       "    </tr>\n",
       "  </tbody>\n",
       "</table>\n",
       "</div>"
      ],
      "text/plain": [
       "          recommendationid                                             author  \\\n",
       "193380021        193380021  {'steamid': '76561199767744028', 'num_games_ow...   \n",
       "193378215        193378215  {'steamid': '76561198433304390', 'num_games_ow...   \n",
       "193373294        193373294  {'steamid': '76561198885593603', 'num_games_ow...   \n",
       "193369426        193369426  {'steamid': '76561198035619390', 'num_games_ow...   \n",
       "193362617        193362617  {'steamid': '76561199662867468', 'num_games_ow...   \n",
       "\n",
       "          language                                             review  \\\n",
       "193380021  english  became poopy after bruce willis operator but R...   \n",
       "193378215  english       Diz gaime iz definetwy cawwuv doody wohwzone   \n",
       "193373294  english                                         kinda shit   \n",
       "193369426  english  This game runs poorly, is slow, clunky, full o...   \n",
       "193362617  english  This game is so bad there should be reason you...   \n",
       "\n",
       "            timestamp_created timestamp_updated voted_up votes_up votes_funny  \\\n",
       "193380021 2025-04-23 01:47:08        1745372828     True        0           0   \n",
       "193378215 2025-04-23 01:08:14        1745370494     True        0           0   \n",
       "193373294 2025-04-22 23:26:13        1745364373     True        0           0   \n",
       "193369426 2025-04-22 22:16:58        1745360218    False        1           0   \n",
       "193362617 2025-04-22 20:24:01        1745353441     True        0           0   \n",
       "\n",
       "            weighted_vote_score comment_count steam_purchase  \\\n",
       "193380021                   0.5             0          False   \n",
       "193378215                   0.5             0           True   \n",
       "193373294                   0.5             0           True   \n",
       "193369426  0.523809552192687988             0          False   \n",
       "193362617                   0.5             0          False   \n",
       "\n",
       "          received_for_free written_during_early_access primarily_steam_deck  \n",
       "193380021             False                       False                False  \n",
       "193378215             False                       False                False  \n",
       "193373294             False                       False                False  \n",
       "193369426             False                       False                False  \n",
       "193362617             False                       False                False  "
      ]
     },
     "execution_count": 592,
     "metadata": {},
     "output_type": "execute_result"
    }
   ],
   "source": [
    "df_post.head()"
   ]
  },
  {
   "cell_type": "code",
   "execution_count": 594,
   "id": "56a8e341-9894-494d-8a7c-9184e083b03a",
   "metadata": {},
   "outputs": [
    {
     "data": {
      "text/plain": [
       "Timestamp('2025-04-02 23:06:14')"
      ]
     },
     "execution_count": 594,
     "metadata": {},
     "output_type": "execute_result"
    }
   ],
   "source": [
    "max(df_pre['timestamp_created'])"
   ]
  },
  {
   "cell_type": "code",
   "execution_count": 596,
   "id": "ec9033fb-0308-43fb-8c4e-84205c3bc28d",
   "metadata": {},
   "outputs": [
    {
     "data": {
      "text/plain": [
       "Timestamp('2025-03-03 10:33:32')"
      ]
     },
     "execution_count": 596,
     "metadata": {},
     "output_type": "execute_result"
    }
   ],
   "source": [
    "min(df_pre['timestamp_created'])"
   ]
  },
  {
   "cell_type": "code",
   "execution_count": 598,
   "id": "bc4b5a9d-1759-4e5b-b701-c4f54db96373",
   "metadata": {},
   "outputs": [
    {
     "data": {
      "text/plain": [
       "Timestamp('2025-05-02 23:26:36')"
      ]
     },
     "execution_count": 598,
     "metadata": {},
     "output_type": "execute_result"
    }
   ],
   "source": [
    "max(df_post['timestamp_created'])"
   ]
  },
  {
   "cell_type": "code",
   "execution_count": 600,
   "id": "6994fa78-a733-4ebd-a2fa-c5c66fecde59",
   "metadata": {},
   "outputs": [
    {
     "data": {
      "text/plain": [
       "Timestamp('2025-04-03 00:18:17')"
      ]
     },
     "execution_count": 600,
     "metadata": {},
     "output_type": "execute_result"
    }
   ],
   "source": [
    "min(df_post['timestamp_created'])"
   ]
  },
  {
   "cell_type": "code",
   "execution_count": 602,
   "id": "1fa01bc1-d393-4f15-93e8-6231796ca4a4",
   "metadata": {},
   "outputs": [],
   "source": [
    "analyzer = SentimentIntensityAnalyzer()"
   ]
  },
  {
   "cell_type": "code",
   "execution_count": 604,
   "id": "2fdf20df-5791-491d-8021-c2ae898da8d4",
   "metadata": {},
   "outputs": [],
   "source": [
    "df_pre['polarity_scores'] = [analyzer.polarity_scores(text)['compound'] for text in df_pre['review']]"
   ]
  },
  {
   "cell_type": "code",
   "execution_count": 606,
   "id": "b6b1f319-943b-48c3-abdf-0b26dd5ac8b3",
   "metadata": {},
   "outputs": [
    {
     "data": {
      "text/html": [
       "<div>\n",
       "<style scoped>\n",
       "    .dataframe tbody tr th:only-of-type {\n",
       "        vertical-align: middle;\n",
       "    }\n",
       "\n",
       "    .dataframe tbody tr th {\n",
       "        vertical-align: top;\n",
       "    }\n",
       "\n",
       "    .dataframe thead th {\n",
       "        text-align: right;\n",
       "    }\n",
       "</style>\n",
       "<table border=\"1\" class=\"dataframe\">\n",
       "  <thead>\n",
       "    <tr style=\"text-align: right;\">\n",
       "      <th></th>\n",
       "      <th>recommendationid</th>\n",
       "      <th>author</th>\n",
       "      <th>language</th>\n",
       "      <th>review</th>\n",
       "      <th>timestamp_created</th>\n",
       "      <th>timestamp_updated</th>\n",
       "      <th>voted_up</th>\n",
       "      <th>votes_up</th>\n",
       "      <th>votes_funny</th>\n",
       "      <th>weighted_vote_score</th>\n",
       "      <th>comment_count</th>\n",
       "      <th>steam_purchase</th>\n",
       "      <th>received_for_free</th>\n",
       "      <th>written_during_early_access</th>\n",
       "      <th>primarily_steam_deck</th>\n",
       "      <th>polarity_scores</th>\n",
       "    </tr>\n",
       "  </thead>\n",
       "  <tbody>\n",
       "    <tr>\n",
       "      <th>191837413</th>\n",
       "      <td>191837413</td>\n",
       "      <td>{'steamid': '76561199215827822', 'num_games_ow...</td>\n",
       "      <td>english</td>\n",
       "      <td>As someone who loved this game so much during ...</td>\n",
       "      <td>2025-04-02 23:06:14</td>\n",
       "      <td>1743635174</td>\n",
       "      <td>False</td>\n",
       "      <td>8</td>\n",
       "      <td>0</td>\n",
       "      <td>0.546569526195526123</td>\n",
       "      <td>0</td>\n",
       "      <td>False</td>\n",
       "      <td>False</td>\n",
       "      <td>False</td>\n",
       "      <td>False</td>\n",
       "      <td>0.9413</td>\n",
       "    </tr>\n",
       "    <tr>\n",
       "      <th>191832304</th>\n",
       "      <td>191832304</td>\n",
       "      <td>{'steamid': '76561198108831637', 'num_games_ow...</td>\n",
       "      <td>english</td>\n",
       "      <td>This game is making me [h1] RACIST [/h1]</td>\n",
       "      <td>2025-04-02 21:35:22</td>\n",
       "      <td>1743629722</td>\n",
       "      <td>False</td>\n",
       "      <td>11</td>\n",
       "      <td>16</td>\n",
       "      <td>0.54558110237121582</td>\n",
       "      <td>0</td>\n",
       "      <td>False</td>\n",
       "      <td>False</td>\n",
       "      <td>False</td>\n",
       "      <td>False</td>\n",
       "      <td>-0.6940</td>\n",
       "    </tr>\n",
       "    <tr>\n",
       "      <th>191829404</th>\n",
       "      <td>191829404</td>\n",
       "      <td>{'steamid': '76561199567940873', 'num_games_ow...</td>\n",
       "      <td>english</td>\n",
       "      <td>I like it but is so frustraiting</td>\n",
       "      <td>2025-04-02 20:49:27</td>\n",
       "      <td>1743626967</td>\n",
       "      <td>True</td>\n",
       "      <td>2</td>\n",
       "      <td>0</td>\n",
       "      <td>0.512195169925689697</td>\n",
       "      <td>0</td>\n",
       "      <td>False</td>\n",
       "      <td>False</td>\n",
       "      <td>False</td>\n",
       "      <td>False</td>\n",
       "      <td>0.1901</td>\n",
       "    </tr>\n",
       "    <tr>\n",
       "      <th>191818665</th>\n",
       "      <td>191818665</td>\n",
       "      <td>{'steamid': '76561197986818386', 'num_games_ow...</td>\n",
       "      <td>english</td>\n",
       "      <td>WOW DELEVOPERS!!!! ITS SO FANTASTIC, ITS SO SU...</td>\n",
       "      <td>2025-04-02 18:04:18</td>\n",
       "      <td>1743617058</td>\n",
       "      <td>True</td>\n",
       "      <td>2</td>\n",
       "      <td>4</td>\n",
       "      <td>0.478260844945907593</td>\n",
       "      <td>0</td>\n",
       "      <td>False</td>\n",
       "      <td>False</td>\n",
       "      <td>False</td>\n",
       "      <td>False</td>\n",
       "      <td>0.9820</td>\n",
       "    </tr>\n",
       "    <tr>\n",
       "      <th>191763534</th>\n",
       "      <td>191763534</td>\n",
       "      <td>{'steamid': '76561198261735097', 'num_games_ow...</td>\n",
       "      <td>english</td>\n",
       "      <td>If you try to get warzone and just want warzon...</td>\n",
       "      <td>2025-04-01 23:36:36</td>\n",
       "      <td>1743550596</td>\n",
       "      <td>False</td>\n",
       "      <td>6</td>\n",
       "      <td>0</td>\n",
       "      <td>0.534599602222442627</td>\n",
       "      <td>0</td>\n",
       "      <td>False</td>\n",
       "      <td>False</td>\n",
       "      <td>False</td>\n",
       "      <td>False</td>\n",
       "      <td>0.6428</td>\n",
       "    </tr>\n",
       "  </tbody>\n",
       "</table>\n",
       "</div>"
      ],
      "text/plain": [
       "          recommendationid                                             author  \\\n",
       "191837413        191837413  {'steamid': '76561199215827822', 'num_games_ow...   \n",
       "191832304        191832304  {'steamid': '76561198108831637', 'num_games_ow...   \n",
       "191829404        191829404  {'steamid': '76561199567940873', 'num_games_ow...   \n",
       "191818665        191818665  {'steamid': '76561197986818386', 'num_games_ow...   \n",
       "191763534        191763534  {'steamid': '76561198261735097', 'num_games_ow...   \n",
       "\n",
       "          language                                             review  \\\n",
       "191837413  english  As someone who loved this game so much during ...   \n",
       "191832304  english           This game is making me [h1] RACIST [/h1]   \n",
       "191829404  english                   I like it but is so frustraiting   \n",
       "191818665  english  WOW DELEVOPERS!!!! ITS SO FANTASTIC, ITS SO SU...   \n",
       "191763534  english  If you try to get warzone and just want warzon...   \n",
       "\n",
       "            timestamp_created timestamp_updated voted_up votes_up votes_funny  \\\n",
       "191837413 2025-04-02 23:06:14        1743635174    False        8           0   \n",
       "191832304 2025-04-02 21:35:22        1743629722    False       11          16   \n",
       "191829404 2025-04-02 20:49:27        1743626967     True        2           0   \n",
       "191818665 2025-04-02 18:04:18        1743617058     True        2           4   \n",
       "191763534 2025-04-01 23:36:36        1743550596    False        6           0   \n",
       "\n",
       "            weighted_vote_score comment_count steam_purchase  \\\n",
       "191837413  0.546569526195526123             0          False   \n",
       "191832304   0.54558110237121582             0          False   \n",
       "191829404  0.512195169925689697             0          False   \n",
       "191818665  0.478260844945907593             0          False   \n",
       "191763534  0.534599602222442627             0          False   \n",
       "\n",
       "          received_for_free written_during_early_access primarily_steam_deck  \\\n",
       "191837413             False                       False                False   \n",
       "191832304             False                       False                False   \n",
       "191829404             False                       False                False   \n",
       "191818665             False                       False                False   \n",
       "191763534             False                       False                False   \n",
       "\n",
       "           polarity_scores  \n",
       "191837413           0.9413  \n",
       "191832304          -0.6940  \n",
       "191829404           0.1901  \n",
       "191818665           0.9820  \n",
       "191763534           0.6428  "
      ]
     },
     "execution_count": 606,
     "metadata": {},
     "output_type": "execute_result"
    }
   ],
   "source": [
    "df_pre.head()"
   ]
  },
  {
   "cell_type": "code",
   "execution_count": 608,
   "id": "e2c02ded-be7f-4b13-b7a4-efc897bd709b",
   "metadata": {},
   "outputs": [],
   "source": [
    "df_post['polarity_scores'] = [analyzer.polarity_scores(text)['compound'] for text in df_post['review']]"
   ]
  },
  {
   "cell_type": "code",
   "execution_count": 610,
   "id": "76108411-e948-41fc-949c-896f39c070ee",
   "metadata": {},
   "outputs": [
    {
     "data": {
      "text/html": [
       "<div>\n",
       "<style scoped>\n",
       "    .dataframe tbody tr th:only-of-type {\n",
       "        vertical-align: middle;\n",
       "    }\n",
       "\n",
       "    .dataframe tbody tr th {\n",
       "        vertical-align: top;\n",
       "    }\n",
       "\n",
       "    .dataframe thead th {\n",
       "        text-align: right;\n",
       "    }\n",
       "</style>\n",
       "<table border=\"1\" class=\"dataframe\">\n",
       "  <thead>\n",
       "    <tr style=\"text-align: right;\">\n",
       "      <th></th>\n",
       "      <th>recommendationid</th>\n",
       "      <th>author</th>\n",
       "      <th>language</th>\n",
       "      <th>review</th>\n",
       "      <th>timestamp_created</th>\n",
       "      <th>timestamp_updated</th>\n",
       "      <th>voted_up</th>\n",
       "      <th>votes_up</th>\n",
       "      <th>votes_funny</th>\n",
       "      <th>weighted_vote_score</th>\n",
       "      <th>comment_count</th>\n",
       "      <th>steam_purchase</th>\n",
       "      <th>received_for_free</th>\n",
       "      <th>written_during_early_access</th>\n",
       "      <th>primarily_steam_deck</th>\n",
       "      <th>polarity_scores</th>\n",
       "    </tr>\n",
       "  </thead>\n",
       "  <tbody>\n",
       "    <tr>\n",
       "      <th>193380021</th>\n",
       "      <td>193380021</td>\n",
       "      <td>{'steamid': '76561199767744028', 'num_games_ow...</td>\n",
       "      <td>english</td>\n",
       "      <td>became poopy after bruce willis operator but R...</td>\n",
       "      <td>2025-04-23 01:47:08</td>\n",
       "      <td>1745372828</td>\n",
       "      <td>True</td>\n",
       "      <td>0</td>\n",
       "      <td>0</td>\n",
       "      <td>0.5</td>\n",
       "      <td>0</td>\n",
       "      <td>False</td>\n",
       "      <td>False</td>\n",
       "      <td>False</td>\n",
       "      <td>False</td>\n",
       "      <td>0.8556</td>\n",
       "    </tr>\n",
       "    <tr>\n",
       "      <th>193378215</th>\n",
       "      <td>193378215</td>\n",
       "      <td>{'steamid': '76561198433304390', 'num_games_ow...</td>\n",
       "      <td>english</td>\n",
       "      <td>Diz gaime iz definetwy cawwuv doody wohwzone</td>\n",
       "      <td>2025-04-23 01:08:14</td>\n",
       "      <td>1745370494</td>\n",
       "      <td>True</td>\n",
       "      <td>0</td>\n",
       "      <td>0</td>\n",
       "      <td>0.5</td>\n",
       "      <td>0</td>\n",
       "      <td>True</td>\n",
       "      <td>False</td>\n",
       "      <td>False</td>\n",
       "      <td>False</td>\n",
       "      <td>0.0000</td>\n",
       "    </tr>\n",
       "    <tr>\n",
       "      <th>193373294</th>\n",
       "      <td>193373294</td>\n",
       "      <td>{'steamid': '76561198885593603', 'num_games_ow...</td>\n",
       "      <td>english</td>\n",
       "      <td>kinda shit</td>\n",
       "      <td>2025-04-22 23:26:13</td>\n",
       "      <td>1745364373</td>\n",
       "      <td>True</td>\n",
       "      <td>0</td>\n",
       "      <td>0</td>\n",
       "      <td>0.5</td>\n",
       "      <td>0</td>\n",
       "      <td>True</td>\n",
       "      <td>False</td>\n",
       "      <td>False</td>\n",
       "      <td>False</td>\n",
       "      <td>-0.5118</td>\n",
       "    </tr>\n",
       "    <tr>\n",
       "      <th>193369426</th>\n",
       "      <td>193369426</td>\n",
       "      <td>{'steamid': '76561198035619390', 'num_games_ow...</td>\n",
       "      <td>english</td>\n",
       "      <td>This game runs poorly, is slow, clunky, full o...</td>\n",
       "      <td>2025-04-22 22:16:58</td>\n",
       "      <td>1745360218</td>\n",
       "      <td>False</td>\n",
       "      <td>1</td>\n",
       "      <td>0</td>\n",
       "      <td>0.523809552192687988</td>\n",
       "      <td>0</td>\n",
       "      <td>False</td>\n",
       "      <td>False</td>\n",
       "      <td>False</td>\n",
       "      <td>False</td>\n",
       "      <td>-0.8689</td>\n",
       "    </tr>\n",
       "    <tr>\n",
       "      <th>193362617</th>\n",
       "      <td>193362617</td>\n",
       "      <td>{'steamid': '76561199662867468', 'num_games_ow...</td>\n",
       "      <td>english</td>\n",
       "      <td>This game is so bad there should be reason you...</td>\n",
       "      <td>2025-04-22 20:24:01</td>\n",
       "      <td>1745353441</td>\n",
       "      <td>True</td>\n",
       "      <td>0</td>\n",
       "      <td>0</td>\n",
       "      <td>0.5</td>\n",
       "      <td>0</td>\n",
       "      <td>False</td>\n",
       "      <td>False</td>\n",
       "      <td>False</td>\n",
       "      <td>False</td>\n",
       "      <td>-0.8398</td>\n",
       "    </tr>\n",
       "  </tbody>\n",
       "</table>\n",
       "</div>"
      ],
      "text/plain": [
       "          recommendationid                                             author  \\\n",
       "193380021        193380021  {'steamid': '76561199767744028', 'num_games_ow...   \n",
       "193378215        193378215  {'steamid': '76561198433304390', 'num_games_ow...   \n",
       "193373294        193373294  {'steamid': '76561198885593603', 'num_games_ow...   \n",
       "193369426        193369426  {'steamid': '76561198035619390', 'num_games_ow...   \n",
       "193362617        193362617  {'steamid': '76561199662867468', 'num_games_ow...   \n",
       "\n",
       "          language                                             review  \\\n",
       "193380021  english  became poopy after bruce willis operator but R...   \n",
       "193378215  english       Diz gaime iz definetwy cawwuv doody wohwzone   \n",
       "193373294  english                                         kinda shit   \n",
       "193369426  english  This game runs poorly, is slow, clunky, full o...   \n",
       "193362617  english  This game is so bad there should be reason you...   \n",
       "\n",
       "            timestamp_created timestamp_updated voted_up votes_up votes_funny  \\\n",
       "193380021 2025-04-23 01:47:08        1745372828     True        0           0   \n",
       "193378215 2025-04-23 01:08:14        1745370494     True        0           0   \n",
       "193373294 2025-04-22 23:26:13        1745364373     True        0           0   \n",
       "193369426 2025-04-22 22:16:58        1745360218    False        1           0   \n",
       "193362617 2025-04-22 20:24:01        1745353441     True        0           0   \n",
       "\n",
       "            weighted_vote_score comment_count steam_purchase  \\\n",
       "193380021                   0.5             0          False   \n",
       "193378215                   0.5             0           True   \n",
       "193373294                   0.5             0           True   \n",
       "193369426  0.523809552192687988             0          False   \n",
       "193362617                   0.5             0          False   \n",
       "\n",
       "          received_for_free written_during_early_access primarily_steam_deck  \\\n",
       "193380021             False                       False                False   \n",
       "193378215             False                       False                False   \n",
       "193373294             False                       False                False   \n",
       "193369426             False                       False                False   \n",
       "193362617             False                       False                False   \n",
       "\n",
       "           polarity_scores  \n",
       "193380021           0.8556  \n",
       "193378215           0.0000  \n",
       "193373294          -0.5118  \n",
       "193369426          -0.8689  \n",
       "193362617          -0.8398  "
      ]
     },
     "execution_count": 610,
     "metadata": {},
     "output_type": "execute_result"
    }
   ],
   "source": [
    "df_post.head()"
   ]
  },
  {
   "cell_type": "code",
   "execution_count": 612,
   "id": "99eaefff-d33d-487f-a595-62cd123de226",
   "metadata": {},
   "outputs": [],
   "source": [
    "df_pre['voted_up'] = df_pre['voted_up'].replace({True : 0, False : 1})\n",
    "df_post['voted_up'] = df_post['voted_up'].replace({True : 0, False : 1})"
   ]
  },
  {
   "cell_type": "code",
   "execution_count": 614,
   "id": "10a426a1-9a69-4e58-8e3e-bbd537cdec1c",
   "metadata": {},
   "outputs": [
    {
     "data": {
      "text/html": [
       "<div>\n",
       "<style scoped>\n",
       "    .dataframe tbody tr th:only-of-type {\n",
       "        vertical-align: middle;\n",
       "    }\n",
       "\n",
       "    .dataframe tbody tr th {\n",
       "        vertical-align: top;\n",
       "    }\n",
       "\n",
       "    .dataframe thead th {\n",
       "        text-align: right;\n",
       "    }\n",
       "</style>\n",
       "<table border=\"1\" class=\"dataframe\">\n",
       "  <thead>\n",
       "    <tr style=\"text-align: right;\">\n",
       "      <th></th>\n",
       "      <th>recommendationid</th>\n",
       "      <th>author</th>\n",
       "      <th>language</th>\n",
       "      <th>review</th>\n",
       "      <th>timestamp_created</th>\n",
       "      <th>timestamp_updated</th>\n",
       "      <th>voted_up</th>\n",
       "      <th>votes_up</th>\n",
       "      <th>votes_funny</th>\n",
       "      <th>weighted_vote_score</th>\n",
       "      <th>comment_count</th>\n",
       "      <th>steam_purchase</th>\n",
       "      <th>received_for_free</th>\n",
       "      <th>written_during_early_access</th>\n",
       "      <th>primarily_steam_deck</th>\n",
       "      <th>polarity_scores</th>\n",
       "    </tr>\n",
       "  </thead>\n",
       "  <tbody>\n",
       "    <tr>\n",
       "      <th>191837413</th>\n",
       "      <td>191837413</td>\n",
       "      <td>{'steamid': '76561199215827822', 'num_games_ow...</td>\n",
       "      <td>english</td>\n",
       "      <td>As someone who loved this game so much during ...</td>\n",
       "      <td>2025-04-02 23:06:14</td>\n",
       "      <td>1743635174</td>\n",
       "      <td>1</td>\n",
       "      <td>8</td>\n",
       "      <td>0</td>\n",
       "      <td>0.546569526195526123</td>\n",
       "      <td>0</td>\n",
       "      <td>False</td>\n",
       "      <td>False</td>\n",
       "      <td>False</td>\n",
       "      <td>False</td>\n",
       "      <td>0.9413</td>\n",
       "    </tr>\n",
       "    <tr>\n",
       "      <th>191832304</th>\n",
       "      <td>191832304</td>\n",
       "      <td>{'steamid': '76561198108831637', 'num_games_ow...</td>\n",
       "      <td>english</td>\n",
       "      <td>This game is making me [h1] RACIST [/h1]</td>\n",
       "      <td>2025-04-02 21:35:22</td>\n",
       "      <td>1743629722</td>\n",
       "      <td>1</td>\n",
       "      <td>11</td>\n",
       "      <td>16</td>\n",
       "      <td>0.54558110237121582</td>\n",
       "      <td>0</td>\n",
       "      <td>False</td>\n",
       "      <td>False</td>\n",
       "      <td>False</td>\n",
       "      <td>False</td>\n",
       "      <td>-0.6940</td>\n",
       "    </tr>\n",
       "    <tr>\n",
       "      <th>191829404</th>\n",
       "      <td>191829404</td>\n",
       "      <td>{'steamid': '76561199567940873', 'num_games_ow...</td>\n",
       "      <td>english</td>\n",
       "      <td>I like it but is so frustraiting</td>\n",
       "      <td>2025-04-02 20:49:27</td>\n",
       "      <td>1743626967</td>\n",
       "      <td>0</td>\n",
       "      <td>2</td>\n",
       "      <td>0</td>\n",
       "      <td>0.512195169925689697</td>\n",
       "      <td>0</td>\n",
       "      <td>False</td>\n",
       "      <td>False</td>\n",
       "      <td>False</td>\n",
       "      <td>False</td>\n",
       "      <td>0.1901</td>\n",
       "    </tr>\n",
       "    <tr>\n",
       "      <th>191818665</th>\n",
       "      <td>191818665</td>\n",
       "      <td>{'steamid': '76561197986818386', 'num_games_ow...</td>\n",
       "      <td>english</td>\n",
       "      <td>WOW DELEVOPERS!!!! ITS SO FANTASTIC, ITS SO SU...</td>\n",
       "      <td>2025-04-02 18:04:18</td>\n",
       "      <td>1743617058</td>\n",
       "      <td>0</td>\n",
       "      <td>2</td>\n",
       "      <td>4</td>\n",
       "      <td>0.478260844945907593</td>\n",
       "      <td>0</td>\n",
       "      <td>False</td>\n",
       "      <td>False</td>\n",
       "      <td>False</td>\n",
       "      <td>False</td>\n",
       "      <td>0.9820</td>\n",
       "    </tr>\n",
       "    <tr>\n",
       "      <th>191763534</th>\n",
       "      <td>191763534</td>\n",
       "      <td>{'steamid': '76561198261735097', 'num_games_ow...</td>\n",
       "      <td>english</td>\n",
       "      <td>If you try to get warzone and just want warzon...</td>\n",
       "      <td>2025-04-01 23:36:36</td>\n",
       "      <td>1743550596</td>\n",
       "      <td>1</td>\n",
       "      <td>6</td>\n",
       "      <td>0</td>\n",
       "      <td>0.534599602222442627</td>\n",
       "      <td>0</td>\n",
       "      <td>False</td>\n",
       "      <td>False</td>\n",
       "      <td>False</td>\n",
       "      <td>False</td>\n",
       "      <td>0.6428</td>\n",
       "    </tr>\n",
       "  </tbody>\n",
       "</table>\n",
       "</div>"
      ],
      "text/plain": [
       "          recommendationid                                             author  \\\n",
       "191837413        191837413  {'steamid': '76561199215827822', 'num_games_ow...   \n",
       "191832304        191832304  {'steamid': '76561198108831637', 'num_games_ow...   \n",
       "191829404        191829404  {'steamid': '76561199567940873', 'num_games_ow...   \n",
       "191818665        191818665  {'steamid': '76561197986818386', 'num_games_ow...   \n",
       "191763534        191763534  {'steamid': '76561198261735097', 'num_games_ow...   \n",
       "\n",
       "          language                                             review  \\\n",
       "191837413  english  As someone who loved this game so much during ...   \n",
       "191832304  english           This game is making me [h1] RACIST [/h1]   \n",
       "191829404  english                   I like it but is so frustraiting   \n",
       "191818665  english  WOW DELEVOPERS!!!! ITS SO FANTASTIC, ITS SO SU...   \n",
       "191763534  english  If you try to get warzone and just want warzon...   \n",
       "\n",
       "            timestamp_created timestamp_updated  voted_up votes_up  \\\n",
       "191837413 2025-04-02 23:06:14        1743635174         1        8   \n",
       "191832304 2025-04-02 21:35:22        1743629722         1       11   \n",
       "191829404 2025-04-02 20:49:27        1743626967         0        2   \n",
       "191818665 2025-04-02 18:04:18        1743617058         0        2   \n",
       "191763534 2025-04-01 23:36:36        1743550596         1        6   \n",
       "\n",
       "          votes_funny   weighted_vote_score comment_count steam_purchase  \\\n",
       "191837413           0  0.546569526195526123             0          False   \n",
       "191832304          16   0.54558110237121582             0          False   \n",
       "191829404           0  0.512195169925689697             0          False   \n",
       "191818665           4  0.478260844945907593             0          False   \n",
       "191763534           0  0.534599602222442627             0          False   \n",
       "\n",
       "          received_for_free written_during_early_access primarily_steam_deck  \\\n",
       "191837413             False                       False                False   \n",
       "191832304             False                       False                False   \n",
       "191829404             False                       False                False   \n",
       "191818665             False                       False                False   \n",
       "191763534             False                       False                False   \n",
       "\n",
       "           polarity_scores  \n",
       "191837413           0.9413  \n",
       "191832304          -0.6940  \n",
       "191829404           0.1901  \n",
       "191818665           0.9820  \n",
       "191763534           0.6428  "
      ]
     },
     "execution_count": 614,
     "metadata": {},
     "output_type": "execute_result"
    }
   ],
   "source": [
    "df_pre.head()"
   ]
  },
  {
   "cell_type": "code",
   "execution_count": 616,
   "id": "bbe30bd6-76a5-4000-b704-92b7114d1352",
   "metadata": {},
   "outputs": [
    {
     "data": {
      "text/html": [
       "<div>\n",
       "<style scoped>\n",
       "    .dataframe tbody tr th:only-of-type {\n",
       "        vertical-align: middle;\n",
       "    }\n",
       "\n",
       "    .dataframe tbody tr th {\n",
       "        vertical-align: top;\n",
       "    }\n",
       "\n",
       "    .dataframe thead th {\n",
       "        text-align: right;\n",
       "    }\n",
       "</style>\n",
       "<table border=\"1\" class=\"dataframe\">\n",
       "  <thead>\n",
       "    <tr style=\"text-align: right;\">\n",
       "      <th></th>\n",
       "      <th>recommendationid</th>\n",
       "      <th>author</th>\n",
       "      <th>language</th>\n",
       "      <th>review</th>\n",
       "      <th>timestamp_created</th>\n",
       "      <th>timestamp_updated</th>\n",
       "      <th>voted_up</th>\n",
       "      <th>votes_up</th>\n",
       "      <th>votes_funny</th>\n",
       "      <th>weighted_vote_score</th>\n",
       "      <th>comment_count</th>\n",
       "      <th>steam_purchase</th>\n",
       "      <th>received_for_free</th>\n",
       "      <th>written_during_early_access</th>\n",
       "      <th>primarily_steam_deck</th>\n",
       "      <th>polarity_scores</th>\n",
       "    </tr>\n",
       "  </thead>\n",
       "  <tbody>\n",
       "    <tr>\n",
       "      <th>193380021</th>\n",
       "      <td>193380021</td>\n",
       "      <td>{'steamid': '76561199767744028', 'num_games_ow...</td>\n",
       "      <td>english</td>\n",
       "      <td>became poopy after bruce willis operator but R...</td>\n",
       "      <td>2025-04-23 01:47:08</td>\n",
       "      <td>1745372828</td>\n",
       "      <td>0</td>\n",
       "      <td>0</td>\n",
       "      <td>0</td>\n",
       "      <td>0.5</td>\n",
       "      <td>0</td>\n",
       "      <td>False</td>\n",
       "      <td>False</td>\n",
       "      <td>False</td>\n",
       "      <td>False</td>\n",
       "      <td>0.8556</td>\n",
       "    </tr>\n",
       "    <tr>\n",
       "      <th>193378215</th>\n",
       "      <td>193378215</td>\n",
       "      <td>{'steamid': '76561198433304390', 'num_games_ow...</td>\n",
       "      <td>english</td>\n",
       "      <td>Diz gaime iz definetwy cawwuv doody wohwzone</td>\n",
       "      <td>2025-04-23 01:08:14</td>\n",
       "      <td>1745370494</td>\n",
       "      <td>0</td>\n",
       "      <td>0</td>\n",
       "      <td>0</td>\n",
       "      <td>0.5</td>\n",
       "      <td>0</td>\n",
       "      <td>True</td>\n",
       "      <td>False</td>\n",
       "      <td>False</td>\n",
       "      <td>False</td>\n",
       "      <td>0.0000</td>\n",
       "    </tr>\n",
       "    <tr>\n",
       "      <th>193373294</th>\n",
       "      <td>193373294</td>\n",
       "      <td>{'steamid': '76561198885593603', 'num_games_ow...</td>\n",
       "      <td>english</td>\n",
       "      <td>kinda shit</td>\n",
       "      <td>2025-04-22 23:26:13</td>\n",
       "      <td>1745364373</td>\n",
       "      <td>0</td>\n",
       "      <td>0</td>\n",
       "      <td>0</td>\n",
       "      <td>0.5</td>\n",
       "      <td>0</td>\n",
       "      <td>True</td>\n",
       "      <td>False</td>\n",
       "      <td>False</td>\n",
       "      <td>False</td>\n",
       "      <td>-0.5118</td>\n",
       "    </tr>\n",
       "    <tr>\n",
       "      <th>193369426</th>\n",
       "      <td>193369426</td>\n",
       "      <td>{'steamid': '76561198035619390', 'num_games_ow...</td>\n",
       "      <td>english</td>\n",
       "      <td>This game runs poorly, is slow, clunky, full o...</td>\n",
       "      <td>2025-04-22 22:16:58</td>\n",
       "      <td>1745360218</td>\n",
       "      <td>1</td>\n",
       "      <td>1</td>\n",
       "      <td>0</td>\n",
       "      <td>0.523809552192687988</td>\n",
       "      <td>0</td>\n",
       "      <td>False</td>\n",
       "      <td>False</td>\n",
       "      <td>False</td>\n",
       "      <td>False</td>\n",
       "      <td>-0.8689</td>\n",
       "    </tr>\n",
       "    <tr>\n",
       "      <th>193362617</th>\n",
       "      <td>193362617</td>\n",
       "      <td>{'steamid': '76561199662867468', 'num_games_ow...</td>\n",
       "      <td>english</td>\n",
       "      <td>This game is so bad there should be reason you...</td>\n",
       "      <td>2025-04-22 20:24:01</td>\n",
       "      <td>1745353441</td>\n",
       "      <td>0</td>\n",
       "      <td>0</td>\n",
       "      <td>0</td>\n",
       "      <td>0.5</td>\n",
       "      <td>0</td>\n",
       "      <td>False</td>\n",
       "      <td>False</td>\n",
       "      <td>False</td>\n",
       "      <td>False</td>\n",
       "      <td>-0.8398</td>\n",
       "    </tr>\n",
       "  </tbody>\n",
       "</table>\n",
       "</div>"
      ],
      "text/plain": [
       "          recommendationid                                             author  \\\n",
       "193380021        193380021  {'steamid': '76561199767744028', 'num_games_ow...   \n",
       "193378215        193378215  {'steamid': '76561198433304390', 'num_games_ow...   \n",
       "193373294        193373294  {'steamid': '76561198885593603', 'num_games_ow...   \n",
       "193369426        193369426  {'steamid': '76561198035619390', 'num_games_ow...   \n",
       "193362617        193362617  {'steamid': '76561199662867468', 'num_games_ow...   \n",
       "\n",
       "          language                                             review  \\\n",
       "193380021  english  became poopy after bruce willis operator but R...   \n",
       "193378215  english       Diz gaime iz definetwy cawwuv doody wohwzone   \n",
       "193373294  english                                         kinda shit   \n",
       "193369426  english  This game runs poorly, is slow, clunky, full o...   \n",
       "193362617  english  This game is so bad there should be reason you...   \n",
       "\n",
       "            timestamp_created timestamp_updated  voted_up votes_up  \\\n",
       "193380021 2025-04-23 01:47:08        1745372828         0        0   \n",
       "193378215 2025-04-23 01:08:14        1745370494         0        0   \n",
       "193373294 2025-04-22 23:26:13        1745364373         0        0   \n",
       "193369426 2025-04-22 22:16:58        1745360218         1        1   \n",
       "193362617 2025-04-22 20:24:01        1745353441         0        0   \n",
       "\n",
       "          votes_funny   weighted_vote_score comment_count steam_purchase  \\\n",
       "193380021           0                   0.5             0          False   \n",
       "193378215           0                   0.5             0           True   \n",
       "193373294           0                   0.5             0           True   \n",
       "193369426           0  0.523809552192687988             0          False   \n",
       "193362617           0                   0.5             0          False   \n",
       "\n",
       "          received_for_free written_during_early_access primarily_steam_deck  \\\n",
       "193380021             False                       False                False   \n",
       "193378215             False                       False                False   \n",
       "193373294             False                       False                False   \n",
       "193369426             False                       False                False   \n",
       "193362617             False                       False                False   \n",
       "\n",
       "           polarity_scores  \n",
       "193380021           0.8556  \n",
       "193378215           0.0000  \n",
       "193373294          -0.5118  \n",
       "193369426          -0.8689  \n",
       "193362617          -0.8398  "
      ]
     },
     "execution_count": 616,
     "metadata": {},
     "output_type": "execute_result"
    }
   ],
   "source": [
    "df_post.head()"
   ]
  },
  {
   "cell_type": "code",
   "execution_count": 618,
   "id": "0819a776-6af6-4d03-a98a-eff2b20246f1",
   "metadata": {},
   "outputs": [
    {
     "data": {
      "text/html": [
       "<div>\n",
       "<style scoped>\n",
       "    .dataframe tbody tr th:only-of-type {\n",
       "        vertical-align: middle;\n",
       "    }\n",
       "\n",
       "    .dataframe tbody tr th {\n",
       "        vertical-align: top;\n",
       "    }\n",
       "\n",
       "    .dataframe thead th {\n",
       "        text-align: right;\n",
       "    }\n",
       "</style>\n",
       "<table border=\"1\" class=\"dataframe\">\n",
       "  <thead>\n",
       "    <tr style=\"text-align: right;\">\n",
       "      <th></th>\n",
       "      <th>voted_up</th>\n",
       "      <th>polarity_scores</th>\n",
       "    </tr>\n",
       "  </thead>\n",
       "  <tbody>\n",
       "    <tr>\n",
       "      <th>voted_up</th>\n",
       "      <td>1.000000</td>\n",
       "      <td>-0.321125</td>\n",
       "    </tr>\n",
       "    <tr>\n",
       "      <th>polarity_scores</th>\n",
       "      <td>-0.321125</td>\n",
       "      <td>1.000000</td>\n",
       "    </tr>\n",
       "  </tbody>\n",
       "</table>\n",
       "</div>"
      ],
      "text/plain": [
       "                 voted_up  polarity_scores\n",
       "voted_up         1.000000        -0.321125\n",
       "polarity_scores -0.321125         1.000000"
      ]
     },
     "execution_count": 618,
     "metadata": {},
     "output_type": "execute_result"
    }
   ],
   "source": [
    "df_pre[['voted_up', 'polarity_scores']].corr(method = 'pearson')"
   ]
  },
  {
   "cell_type": "code",
   "execution_count": 620,
   "id": "6463a028-834c-43c5-b863-6f9346dedb69",
   "metadata": {},
   "outputs": [
    {
     "data": {
      "text/html": [
       "<div>\n",
       "<style scoped>\n",
       "    .dataframe tbody tr th:only-of-type {\n",
       "        vertical-align: middle;\n",
       "    }\n",
       "\n",
       "    .dataframe tbody tr th {\n",
       "        vertical-align: top;\n",
       "    }\n",
       "\n",
       "    .dataframe thead th {\n",
       "        text-align: right;\n",
       "    }\n",
       "</style>\n",
       "<table border=\"1\" class=\"dataframe\">\n",
       "  <thead>\n",
       "    <tr style=\"text-align: right;\">\n",
       "      <th></th>\n",
       "      <th>voted_up</th>\n",
       "      <th>polarity_scores</th>\n",
       "    </tr>\n",
       "  </thead>\n",
       "  <tbody>\n",
       "    <tr>\n",
       "      <th>voted_up</th>\n",
       "      <td>1.000000</td>\n",
       "      <td>-0.279288</td>\n",
       "    </tr>\n",
       "    <tr>\n",
       "      <th>polarity_scores</th>\n",
       "      <td>-0.279288</td>\n",
       "      <td>1.000000</td>\n",
       "    </tr>\n",
       "  </tbody>\n",
       "</table>\n",
       "</div>"
      ],
      "text/plain": [
       "                 voted_up  polarity_scores\n",
       "voted_up         1.000000        -0.279288\n",
       "polarity_scores -0.279288         1.000000"
      ]
     },
     "execution_count": 620,
     "metadata": {},
     "output_type": "execute_result"
    }
   ],
   "source": [
    "df_post[['voted_up', 'polarity_scores']].corr(method = 'pearson')"
   ]
  },
  {
   "cell_type": "code",
   "execution_count": 622,
   "id": "45502722-c44a-4c64-ae91-37936eb6caa2",
   "metadata": {},
   "outputs": [
    {
     "data": {
      "text/plain": [
       "voted_up\n",
       "1    208\n",
       "0     88\n",
       "Name: count, dtype: int64"
      ]
     },
     "execution_count": 622,
     "metadata": {},
     "output_type": "execute_result"
    }
   ],
   "source": [
    "df_pre['voted_up'].value_counts()"
   ]
  },
  {
   "cell_type": "code",
   "execution_count": 624,
   "id": "2ebaf087-2eb8-4834-bc37-d8f93a74c407",
   "metadata": {},
   "outputs": [],
   "source": [
    "labels = 'Recommended', 'Not Recommended'\n",
    "sizes1 = [df_pre['voted_up'].value_counts()[0], df_pre['voted_up'].value_counts()[1]]\n",
    "sizes2 = [df_post['voted_up'].value_counts()[0], df_post['voted_up'].value_counts()[1]]\n",
    "colors = ['blue', 'red']"
   ]
  },
  {
   "cell_type": "code",
   "execution_count": 626,
   "id": "fbb07911-a527-49e7-9d4c-ee8d039178af",
   "metadata": {},
   "outputs": [
    {
     "data": {
      "image/png": "[encoded data removed]",
      "text/plain": [
       "<Figure size 640x480 with 1 Axes>"
      ]
     },
     "metadata": {},
     "output_type": "display_data"
    }
   ],
   "source": [
    "fig, ax = plt.subplots()\n",
    "ax.pie(sizes1, labels=labels, autopct='%1.1f%%', colors=colors)\n",
    "ax.set_title('Proportion of recommendations prior to April 3rd')\n",
    "plt.show()"
   ]
  },
  {
   "cell_type": "code",
   "execution_count": 628,
   "id": "865490b3-ff70-4799-8916-7e92d1ff676a",
   "metadata": {},
   "outputs": [
    {
     "data": {
      "image/png": "[encoded data removed]",
      "text/plain": [
       "<Figure size 640x480 with 1 Axes>"
      ]
     },
     "metadata": {},
     "output_type": "display_data"
    }
   ],
   "source": [
    "fig, ax = plt.subplots()\n",
    "ax.pie(sizes2, labels=labels, autopct='%1.1f%%', colors=colors)\n",
    "ax.set_title('Proportion of recommendations after April 3rd')\n",
    "plt.show()"
   ]
  },
  {
   "cell_type": "code",
   "execution_count": 630,
   "id": "12e73317-4a19-4005-9a95-008f8ee8822b",
   "metadata": {},
   "outputs": [],
   "source": [
    "cats = ['Recommended', 'Not Recommended']"
   ]
  },
  {
   "cell_type": "code",
   "execution_count": 632,
   "id": "e6664643-4991-496f-9150-be2c300614d1",
   "metadata": {},
   "outputs": [
    {
     "data": {
      "image/png": "[encoded data removed]",
      "text/plain": [
       "<Figure size 640x480 with 1 Axes>"
      ]
     },
     "metadata": {},
     "output_type": "display_data"
    }
   ],
   "source": [
    "fig, ax = plt.subplots()\n",
    "ax.bar(cats, sizes1)\n",
    "bars = ax.bar(cats, sizes1, color = colors)\n",
    "\n",
    "ax.set_title('Number of recommendations and non-recommendations prior to April 3rd')\n",
    "\n",
    "for bar in bars:\n",
    "    height = bar.get_height()\n",
    "    ax.text(\n",
    "        bar.get_x() + bar.get_width() / 2,\n",
    "        height,\n",
    "        f'{height:.1f}',\n",
    "        ha='center', va='bottom'\n",
    "    )\n",
    "\n",
    "plt.show()"
   ]
  },
  {
   "cell_type": "code",
   "execution_count": 634,
   "id": "02d9f7c7-0c74-4965-baa3-dd4817803a36",
   "metadata": {},
   "outputs": [
    {
     "data": {
      "image/png": "[encoded data removed]",
      "text/plain": [
       "<Figure size 640x480 with 1 Axes>"
      ]
     },
     "metadata": {},
     "output_type": "display_data"
    }
   ],
   "source": [
    "fig, ax = plt.subplots()\n",
    "ax.bar(cats, sizes1)\n",
    "bars = ax.bar(cats, sizes2, color = colors)\n",
    "\n",
    "ax.set_title('Number of recommendations and non-recommendations after April 3rd')\n",
    "\n",
    "for bar in bars:\n",
    "    height = bar.get_height()\n",
    "    ax.text(\n",
    "        bar.get_x() + bar.get_width() / 2,\n",
    "        height,\n",
    "        f'{height:.1f}',\n",
    "        ha='center', va='bottom'\n",
    "    )\n",
    "\n",
    "plt.show()"
   ]
  },
  {
   "cell_type": "code",
   "execution_count": 636,
   "id": "d3e90e80-9abd-4fc4-b2f3-9ab9ed050278",
   "metadata": {},
   "outputs": [
    {
     "data": {
      "text/plain": [
       "2.284090909090909"
      ]
     },
     "execution_count": 636,
     "metadata": {},
     "output_type": "execute_result"
    }
   ],
   "source": [
    "201/88"
   ]
  },
  {
   "cell_type": "code",
   "execution_count": 638,
   "id": "a5e2735f-b322-49f6-85bf-6afe2b7acd2a",
   "metadata": {},
   "outputs": [
    {
     "data": {
      "text/plain": [
       "2.7740384615384617"
      ]
     },
     "execution_count": 638,
     "metadata": {},
     "output_type": "execute_result"
    }
   ],
   "source": [
    "577/208"
   ]
  },
  {
   "cell_type": "code",
   "execution_count": 640,
   "id": "34e7ac38-b6a1-415b-b5ec-bf51cc5dd1b2",
   "metadata": {},
   "outputs": [
    {
     "data": {
      "text/plain": [
       "-0.05572567567567567"
      ]
     },
     "execution_count": 640,
     "metadata": {},
     "output_type": "execute_result"
    }
   ],
   "source": [
    "df_pre['polarity_scores'].mean()"
   ]
  },
  {
   "cell_type": "code",
   "execution_count": 642,
   "id": "7785422b-719f-4304-b8fb-ea29c3b03a3d",
   "metadata": {},
   "outputs": [
    {
     "data": {
      "text/plain": [
       "-0.08034408740359897"
      ]
     },
     "execution_count": 642,
     "metadata": {},
     "output_type": "execute_result"
    }
   ],
   "source": [
    "df_post['polarity_scores'].mean()"
   ]
  },
  {
   "cell_type": "code",
   "execution_count": 644,
   "id": "bbcacf36-4c26-4089-85e8-172f12d688b3",
   "metadata": {},
   "outputs": [
    {
     "data": {
      "text/plain": [
       "0.0"
      ]
     },
     "execution_count": 644,
     "metadata": {},
     "output_type": "execute_result"
    }
   ],
   "source": [
    "df_pre['polarity_scores'].median()"
   ]
  },
  {
   "cell_type": "code",
   "execution_count": 646,
   "id": "c908fafb-821d-4a94-9442-4b4c22d4c437",
   "metadata": {},
   "outputs": [
    {
     "data": {
      "text/plain": [
       "0.0"
      ]
     },
     "execution_count": 646,
     "metadata": {},
     "output_type": "execute_result"
    }
   ],
   "source": [
    "df_post['polarity_scores'].median()"
   ]
  },
  {
   "cell_type": "code",
   "execution_count": 648,
   "id": "fa61e340-de27-4d90-a5b9-b9f3bed4627a",
   "metadata": {},
   "outputs": [],
   "source": [
    "pre_list = [score for score in df_pre['polarity_scores']]"
   ]
  },
  {
   "cell_type": "code",
   "execution_count": 650,
   "id": "1c0e7181-8a73-4b4e-8143-dc300751d0a1",
   "metadata": {},
   "outputs": [],
   "source": [
    "post_list = [score for score in df_post['polarity_scores']]"
   ]
  },
  {
   "cell_type": "code",
   "execution_count": 652,
   "id": "67d47810-121d-4e5b-8d07-9b0e3439dcd5",
   "metadata": {},
   "outputs": [],
   "source": [
    "def sign_counter(lst):\n",
    "    pos = 0\n",
    "    neg = 0\n",
    "    zer = 0\n",
    "    for num in lst:\n",
    "        if num > 0:\n",
    "            pos += 1\n",
    "        if num < 0:\n",
    "            neg += 1\n",
    "        if num == 0:\n",
    "            zer += 1\n",
    "    return (pos, neg, zer)"
   ]
  },
  {
   "cell_type": "code",
   "execution_count": 654,
   "id": "a9c0ca6d-f8e2-4674-bed1-88ed32236870",
   "metadata": {},
   "outputs": [
    {
     "data": {
      "text/plain": [
       "(100, 123, 73)"
      ]
     },
     "execution_count": 654,
     "metadata": {},
     "output_type": "execute_result"
    }
   ],
   "source": [
    "sign_counter(pre_list)"
   ]
  },
  {
   "cell_type": "code",
   "execution_count": 656,
   "id": "cd6e4613-2b1f-4ae7-b62f-4291a6461333",
   "metadata": {},
   "outputs": [
    {
     "data": {
      "text/plain": [
       "(247, 347, 184)"
      ]
     },
     "execution_count": 656,
     "metadata": {},
     "output_type": "execute_result"
    }
   ],
   "source": [
    "sign_counter(post_list)"
   ]
  },
  {
   "cell_type": "code",
   "execution_count": 658,
   "id": "a56e36ba-de5d-44f3-9c9b-11de311b761c",
   "metadata": {},
   "outputs": [
    {
     "data": {
      "text/plain": [
       "2.47"
      ]
     },
     "execution_count": 658,
     "metadata": {},
     "output_type": "execute_result"
    }
   ],
   "source": [
    "247/100"
   ]
  },
  {
   "cell_type": "code",
   "execution_count": 660,
   "id": "ce2b2ccf-f6e5-445b-a08b-206e1dd7fe48",
   "metadata": {},
   "outputs": [
    {
     "data": {
      "text/plain": [
       "2.821138211382114"
      ]
     },
     "execution_count": 660,
     "metadata": {},
     "output_type": "execute_result"
    }
   ],
   "source": [
    "347/123"
   ]
  },
  {
   "cell_type": "code",
   "execution_count": 662,
   "id": "b3a45813-4958-482c-af47-c972597d8587",
   "metadata": {},
   "outputs": [
    {
     "data": {
      "text/plain": [
       "2.5205479452054793"
      ]
     },
     "execution_count": 662,
     "metadata": {},
     "output_type": "execute_result"
    }
   ],
   "source": [
    "184/73"
   ]
  },
  {
   "cell_type": "code",
   "execution_count": 664,
   "id": "5defd9f2-da2f-4eeb-bda0-9391926fe4af",
   "metadata": {},
   "outputs": [],
   "source": [
    "labels2 = 'Positive', 'Negative', 'Zero'\n",
    "sizes3 = [100, 123, 73]\n",
    "sizes4 = [247, 347, 184]\n",
    "colors2 = ['blue', 'red', 'gray']"
   ]
  },
  {
   "cell_type": "code",
   "execution_count": 666,
   "id": "4ebbbbef-a161-44ef-a33d-46d1dbcac998",
   "metadata": {},
   "outputs": [
    {
     "data": {
      "image/png": "[encoded data removed]",
      "text/plain": [
       "<Figure size 640x480 with 1 Axes>"
      ]
     },
     "metadata": {},
     "output_type": "display_data"
    }
   ],
   "source": [
    "fig, ax = plt.subplots()\n",
    "ax.pie(sizes3, labels=labels2, autopct='%1.1f%%', colors=colors2)\n",
    "ax.set_title('Proportions of polarity scores prior to April 3rd')\n",
    "plt.show()"
   ]
  },
  {
   "cell_type": "code",
   "execution_count": 668,
   "id": "446bec69-7cf0-4116-917f-bc16ba2335b5",
   "metadata": {},
   "outputs": [
    {
     "data": {
      "image/png": "[encoded data removed]",
      "text/plain": [
       "<Figure size 640x480 with 1 Axes>"
      ]
     },
     "metadata": {},
     "output_type": "display_data"
    }
   ],
   "source": [
    "fig, ax = plt.subplots()\n",
    "ax.pie(sizes4, labels=labels2, autopct='%1.1f%%', colors=colors2)\n",
    "ax.set_title('Proportions of polarity scores after April 3rd')\n",
    "plt.show()"
   ]
  }
 ],
 "metadata": {
  "kernelspec": {
   "display_name": "Python [conda env:base] *",
   "language": "python",
   "name": "conda-base-py"
  },
  "language_info": {
   "codemirror_mode": {
    "name": "ipython",
    "version": 3
   },
   "file_extension": ".py",
   "mimetype": "text/x-python",
   "name": "python",
   "nbconvert_exporter": "python",
   "pygments_lexer": "ipython3",
   "version": "3.12.7"
  }
 },
 "nbformat": 4,
 "nbformat_minor": 5
}

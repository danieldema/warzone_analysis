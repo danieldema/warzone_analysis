{
 "cells": [
  {
   "cell_type": "code",
   "execution_count": 73,
   "id": "44442fb0-531a-4736-bbe4-c001bf38f7bf",
   "metadata": {},
   "outputs": [
    {
     "name": "stderr",
     "output_type": "stream",
     "text": [
      "[nltk_data] Downloading package vader_lexicon to\n",
      "[nltk_data]     d:\\Daniel\\AppData\\Roaming\\nltk_data...\n",
      "[nltk_data]   Package vader_lexicon is already up-to-date!\n"
     ]
    }
   ],
   "source": [
    "import steamreviews\n",
    "import nltk\n",
    "import pandas as pd\n",
    "from nltk.sentiment import SentimentIntensityAnalyzer\n",
    "import matplotlib\n",
    "import matplotlib.pyplot as plt\n",
    "\n",
    "try:\n",
    "    nltk.data.find('sentiment/vader_lexicon')\n",
    "except LookupError:\n",
    "    nltk.download('vader_lexicon')\n",
    "\n",
    "import warnings\n",
    "warnings.simplefilter(action='ignore', category=pd.errors.SettingWithCopyWarning)\n",
    "warnings.simplefilter(action='ignore', category=FutureWarning)"
   ]
  },
  {
   "cell_type": "code",
   "execution_count": 75,
   "id": "0eb3f7c5-e581-4ed1-b154-83d6fc1cc88f",
   "metadata": {},
   "outputs": [],
   "source": [
    "app_id = 1962663"
   ]
  },
  {
   "cell_type": "code",
   "execution_count": 77,
   "id": "b4892e83-9a58-45b2-a748-c6753aa399f4",
   "metadata": {},
   "outputs": [
    {
     "name": "stdout",
     "output_type": "stream",
     "text": [
      "[appID = 1962663] expected #reviews = 44447\n"
     ]
    }
   ],
   "source": [
    "review_dict, query_count = steamreviews.download_reviews_for_app_id(app_id)"
   ]
  },
  {
   "cell_type": "code",
   "execution_count": 78,
   "id": "e8c5c791-04ee-4828-be86-8859004acf72",
   "metadata": {},
   "outputs": [],
   "source": [
    "df = pd.DataFrame(review_dict['reviews']).T"
   ]
  },
  {
   "cell_type": "code",
   "execution_count": 79,
   "id": "512097c1-af18-46a3-a55b-db7f7d2d5c57",
   "metadata": {},
   "outputs": [
    {
     "data": {
      "text/html": [
       "<div>\n",
       "<style scoped>\n",
       "    .dataframe tbody tr th:only-of-type {\n",
       "        vertical-align: middle;\n",
       "    }\n",
       "\n",
       "    .dataframe tbody tr th {\n",
       "        vertical-align: top;\n",
       "    }\n",
       "\n",
       "    .dataframe thead th {\n",
       "        text-align: right;\n",
       "    }\n",
       "</style>\n",
       "<table border=\"1\" class=\"dataframe\">\n",
       "  <thead>\n",
       "    <tr style=\"text-align: right;\">\n",
       "      <th></th>\n",
       "      <th>recommendationid</th>\n",
       "      <th>author</th>\n",
       "      <th>language</th>\n",
       "      <th>review</th>\n",
       "      <th>timestamp_created</th>\n",
       "      <th>timestamp_updated</th>\n",
       "      <th>voted_up</th>\n",
       "      <th>votes_up</th>\n",
       "      <th>votes_funny</th>\n",
       "      <th>weighted_vote_score</th>\n",
       "      <th>comment_count</th>\n",
       "      <th>steam_purchase</th>\n",
       "      <th>received_for_free</th>\n",
       "      <th>written_during_early_access</th>\n",
       "      <th>primarily_steam_deck</th>\n",
       "    </tr>\n",
       "  </thead>\n",
       "  <tbody>\n",
       "    <tr>\n",
       "      <th>194707442</th>\n",
       "      <td>194707442</td>\n",
       "      <td>{'steamid': '76561198001047926', 'num_games_ow...</td>\n",
       "      <td>polish</td>\n",
       "      <td>bardzoi dobra kurla</td>\n",
       "      <td>1746990590</td>\n",
       "      <td>1746990590</td>\n",
       "      <td>True</td>\n",
       "      <td>0</td>\n",
       "      <td>0</td>\n",
       "      <td>0.5</td>\n",
       "      <td>0</td>\n",
       "      <td>False</td>\n",
       "      <td>False</td>\n",
       "      <td>False</td>\n",
       "      <td>False</td>\n",
       "    </tr>\n",
       "    <tr>\n",
       "      <th>194706811</th>\n",
       "      <td>194706811</td>\n",
       "      <td>{'steamid': '76561199803756401', 'num_games_ow...</td>\n",
       "      <td>english</td>\n",
       "      <td>i like graphics of this game</td>\n",
       "      <td>1746989968</td>\n",
       "      <td>1746989968</td>\n",
       "      <td>True</td>\n",
       "      <td>0</td>\n",
       "      <td>0</td>\n",
       "      <td>0.5</td>\n",
       "      <td>0</td>\n",
       "      <td>False</td>\n",
       "      <td>False</td>\n",
       "      <td>False</td>\n",
       "      <td>False</td>\n",
       "    </tr>\n",
       "    <tr>\n",
       "      <th>194706795</th>\n",
       "      <td>194706795</td>\n",
       "      <td>{'steamid': '76561199379516482', 'num_games_ow...</td>\n",
       "      <td>latam</td>\n",
       "      <td>Una pistola haciendome el amor, Nada nuevo</td>\n",
       "      <td>1746989954</td>\n",
       "      <td>1746989954</td>\n",
       "      <td>False</td>\n",
       "      <td>0</td>\n",
       "      <td>0</td>\n",
       "      <td>0.5</td>\n",
       "      <td>0</td>\n",
       "      <td>False</td>\n",
       "      <td>False</td>\n",
       "      <td>False</td>\n",
       "      <td>False</td>\n",
       "    </tr>\n",
       "    <tr>\n",
       "      <th>194706616</th>\n",
       "      <td>194706616</td>\n",
       "      <td>{'steamid': '76561199441508391', 'num_games_ow...</td>\n",
       "      <td>english</td>\n",
       "      <td>disgusting hot garbage i would rather eat some...</td>\n",
       "      <td>1746989819</td>\n",
       "      <td>1746989819</td>\n",
       "      <td>False</td>\n",
       "      <td>0</td>\n",
       "      <td>0</td>\n",
       "      <td>0.5</td>\n",
       "      <td>0</td>\n",
       "      <td>False</td>\n",
       "      <td>False</td>\n",
       "      <td>False</td>\n",
       "      <td>False</td>\n",
       "    </tr>\n",
       "    <tr>\n",
       "      <th>194706415</th>\n",
       "      <td>194706415</td>\n",
       "      <td>{'steamid': '76561198316470715', 'num_games_ow...</td>\n",
       "      <td>english</td>\n",
       "      <td>[h1]⚠️ Ricochet Windows Kernel Anti-Cheat requ...</td>\n",
       "      <td>1746989643</td>\n",
       "      <td>1746989643</td>\n",
       "      <td>False</td>\n",
       "      <td>0</td>\n",
       "      <td>0</td>\n",
       "      <td>0.5</td>\n",
       "      <td>0</td>\n",
       "      <td>True</td>\n",
       "      <td>False</td>\n",
       "      <td>False</td>\n",
       "      <td>False</td>\n",
       "    </tr>\n",
       "  </tbody>\n",
       "</table>\n",
       "</div>"
      ],
      "text/plain": [
       "          recommendationid                                             author  \\\n",
       "194707442        194707442  {'steamid': '76561198001047926', 'num_games_ow...   \n",
       "194706811        194706811  {'steamid': '76561199803756401', 'num_games_ow...   \n",
       "194706795        194706795  {'steamid': '76561199379516482', 'num_games_ow...   \n",
       "194706616        194706616  {'steamid': '76561199441508391', 'num_games_ow...   \n",
       "194706415        194706415  {'steamid': '76561198316470715', 'num_games_ow...   \n",
       "\n",
       "          language                                             review  \\\n",
       "194707442   polish                                bardzoi dobra kurla   \n",
       "194706811  english                       i like graphics of this game   \n",
       "194706795    latam         Una pistola haciendome el amor, Nada nuevo   \n",
       "194706616  english  disgusting hot garbage i would rather eat some...   \n",
       "194706415  english  [h1]⚠️ Ricochet Windows Kernel Anti-Cheat requ...   \n",
       "\n",
       "          timestamp_created timestamp_updated voted_up votes_up votes_funny  \\\n",
       "194707442        1746990590        1746990590     True        0           0   \n",
       "194706811        1746989968        1746989968     True        0           0   \n",
       "194706795        1746989954        1746989954    False        0           0   \n",
       "194706616        1746989819        1746989819    False        0           0   \n",
       "194706415        1746989643        1746989643    False        0           0   \n",
       "\n",
       "          weighted_vote_score comment_count steam_purchase received_for_free  \\\n",
       "194707442                 0.5             0          False             False   \n",
       "194706811                 0.5             0          False             False   \n",
       "194706795                 0.5             0          False             False   \n",
       "194706616                 0.5             0          False             False   \n",
       "194706415                 0.5             0           True             False   \n",
       "\n",
       "          written_during_early_access primarily_steam_deck  \n",
       "194707442                       False                False  \n",
       "194706811                       False                False  \n",
       "194706795                       False                False  \n",
       "194706616                       False                False  \n",
       "194706415                       False                False  "
      ]
     },
     "execution_count": 79,
     "metadata": {},
     "output_type": "execute_result"
    }
   ],
   "source": [
    "df.head()"
   ]
  },
  {
   "cell_type": "code",
   "execution_count": 80,
   "id": "577092ae-2295-4206-826f-2fbcbe2f8c8b",
   "metadata": {},
   "outputs": [],
   "source": [
    "df['timestamp_created'] = pd.to_datetime(df['timestamp_created'], unit='s')"
   ]
  },
  {
   "cell_type": "code",
   "execution_count": 81,
   "id": "fa00e322-69f0-4aad-94b6-9d1b91a4c288",
   "metadata": {},
   "outputs": [
    {
     "data": {
      "text/plain": [
       "(44461, 15)"
      ]
     },
     "execution_count": 81,
     "metadata": {},
     "output_type": "execute_result"
    }
   ],
   "source": [
    "df.shape"
   ]
  },
  {
   "cell_type": "code",
   "execution_count": 82,
   "id": "e23bd839-bd88-4fc4-b911-29f237a1f061",
   "metadata": {},
   "outputs": [],
   "source": [
    "df = df.loc[df['language'] == 'english']"
   ]
  },
  {
   "cell_type": "code",
   "execution_count": 83,
   "id": "ef3bacb5-48d1-45b8-ad66-c838a9591041",
   "metadata": {},
   "outputs": [
    {
     "data": {
      "text/plain": [
       "(18578, 15)"
      ]
     },
     "execution_count": 83,
     "metadata": {},
     "output_type": "execute_result"
    }
   ],
   "source": [
    "df.shape"
   ]
  },
  {
   "cell_type": "code",
   "execution_count": 84,
   "id": "30c9f5f3-b490-4257-9c9f-53889f6b5d2e",
   "metadata": {},
   "outputs": [],
   "source": [
    "split_one = pd.to_datetime('2022-05-16 00:00:00')\n",
    "split_two = pd.to_datetime('2022-11-16 00:00:00')\n",
    "split_three = pd.to_datetime('2022-12-16 00:00:00')\n",
    "\n",
    "df_pre = df.loc[(df['timestamp_created'] >= split_one) & (df['timestamp_created'] < split_two)]\n",
    "df_post = df.loc[(df['timestamp_created'] >= split_two) & (df['timestamp_created'] < split_three)]"
   ]
  },
  {
   "cell_type": "code",
   "execution_count": 86,
   "id": "f9880168-77ef-4b2c-bd48-571209f065fb",
   "metadata": {},
   "outputs": [
    {
     "data": {
      "text/plain": [
       "(0, 15)"
      ]
     },
     "execution_count": 86,
     "metadata": {},
     "output_type": "execute_result"
    }
   ],
   "source": [
    "df_pre.shape"
   ]
  },
  {
   "cell_type": "code",
   "execution_count": 87,
   "id": "b4661c12-bdf7-40e4-b132-1667e228e13e",
   "metadata": {},
   "outputs": [
    {
     "data": {
      "text/plain": [
       "(5905, 15)"
      ]
     },
     "execution_count": 87,
     "metadata": {},
     "output_type": "execute_result"
    }
   ],
   "source": [
    "df_post.shape"
   ]
  },
  {
   "cell_type": "code",
   "execution_count": 88,
   "id": "66da3d19-e439-4d1f-b0e2-7de3cf4bbfc5",
   "metadata": {},
   "outputs": [
    {
     "data": {
      "text/plain": [
       "(18578, 15)"
      ]
     },
     "execution_count": 88,
     "metadata": {},
     "output_type": "execute_result"
    }
   ],
   "source": [
    "df.shape"
   ]
  },
  {
   "cell_type": "code",
   "execution_count": 89,
   "id": "1e13edf4-4a13-4f1d-9ba8-4ab9f4a40399",
   "metadata": {},
   "outputs": [
    {
     "data": {
      "text/plain": [
       "Timestamp('2022-11-16 18:00:12')"
      ]
     },
     "execution_count": 89,
     "metadata": {},
     "output_type": "execute_result"
    }
   ],
   "source": [
    "min(df['timestamp_created'])"
   ]
  },
  {
   "cell_type": "code",
   "execution_count": 90,
   "id": "614c78fe-2fb5-4935-935c-62625ac47856",
   "metadata": {},
   "outputs": [],
   "source": [
    "analyzer = SentimentIntensityAnalyzer()"
   ]
  },
  {
   "cell_type": "code",
   "execution_count": 91,
   "id": "be3ebe61-53c7-4d69-81b5-00560f25c38e",
   "metadata": {},
   "outputs": [],
   "source": [
    "df_post['polarity_scores'] = [analyzer.polarity_scores(text)['compound'] for text in df_post['review']]"
   ]
  },
  {
   "cell_type": "code",
   "execution_count": 92,
   "id": "ae3f96ab-f719-45d1-b1c8-40c1263d4468",
   "metadata": {},
   "outputs": [],
   "source": [
    "df_post['voted_up'] = df_post['voted_up'].replace({True : 0, False : 1})"
   ]
  },
  {
   "cell_type": "code",
   "execution_count": 95,
   "id": "b9385a96-980b-4cec-8bfa-dd07dec1f1f9",
   "metadata": {},
   "outputs": [
    {
     "data": {
      "text/html": [
       "<div>\n",
       "<style scoped>\n",
       "    .dataframe tbody tr th:only-of-type {\n",
       "        vertical-align: middle;\n",
       "    }\n",
       "\n",
       "    .dataframe tbody tr th {\n",
       "        vertical-align: top;\n",
       "    }\n",
       "\n",
       "    .dataframe thead th {\n",
       "        text-align: right;\n",
       "    }\n",
       "</style>\n",
       "<table border=\"1\" class=\"dataframe\">\n",
       "  <thead>\n",
       "    <tr style=\"text-align: right;\">\n",
       "      <th></th>\n",
       "      <th>voted_up</th>\n",
       "      <th>polarity_scores</th>\n",
       "    </tr>\n",
       "  </thead>\n",
       "  <tbody>\n",
       "    <tr>\n",
       "      <th>voted_up</th>\n",
       "      <td>1.000000</td>\n",
       "      <td>-0.362673</td>\n",
       "    </tr>\n",
       "    <tr>\n",
       "      <th>polarity_scores</th>\n",
       "      <td>-0.362673</td>\n",
       "      <td>1.000000</td>\n",
       "    </tr>\n",
       "  </tbody>\n",
       "</table>\n",
       "</div>"
      ],
      "text/plain": [
       "                 voted_up  polarity_scores\n",
       "voted_up         1.000000        -0.362673\n",
       "polarity_scores -0.362673         1.000000"
      ]
     },
     "execution_count": 95,
     "metadata": {},
     "output_type": "execute_result"
    }
   ],
   "source": [
    "df_post[['voted_up', 'polarity_scores']].corr(method = 'pearson')"
   ]
  },
  {
   "cell_type": "code",
   "execution_count": 97,
   "id": "b6735b1d-c810-47db-8a5d-2d87e377f875",
   "metadata": {},
   "outputs": [],
   "source": [
    "labels = 'Recommended', 'Not Recommended'\n",
    "sizes = [df_post['voted_up'].value_counts()[0], df_post['voted_up'].value_counts()[1]]\n",
    "colors = ['blue', 'red']"
   ]
  },
  {
   "cell_type": "code",
   "execution_count": 100,
   "id": "9960543e-3c6e-4d41-8439-70cf75457bb7",
   "metadata": {},
   "outputs": [
    {
     "data": {
      "image/png": "[encoded data removed]",
      "text/plain": [
       "<Figure size 640x480 with 1 Axes>"
      ]
     },
     "metadata": {},
     "output_type": "display_data"
    }
   ],
   "source": [
    "fig, ax = plt.subplots()\n",
    "ax.pie(sizes, labels=labels, autopct='%1.1f%%', colors=colors)\n",
    "ax.set_title('Proportion of recommendations after November 16th')\n",
    "plt.show()"
   ]
  },
  {
   "cell_type": "code",
   "execution_count": 103,
   "id": "43a32bd5-1b75-4712-bc44-d0a3ff07a9b5",
   "metadata": {},
   "outputs": [],
   "source": [
    "cats = ['Recommended', 'Not Recommended']"
   ]
  },
  {
   "cell_type": "code",
   "execution_count": 106,
   "id": "eec6076b-5d98-45b5-b8a0-a98ad216b879",
   "metadata": {},
   "outputs": [
    {
     "data": {
      "image/png": "[encoded data removed]",
      "text/plain": [
       "<Figure size 640x480 with 1 Axes>"
      ]
     },
     "metadata": {},
     "output_type": "display_data"
    }
   ],
   "source": [
    "fig, ax = plt.subplots()\n",
    "ax.bar(cats, sizes)\n",
    "bars = ax.bar(cats, sizes, color = colors)\n",
    "\n",
    "ax.set_title('Number of recommendations and non-recommendations after November 16th')\n",
    "\n",
    "for bar in bars:\n",
    "    height = bar.get_height()\n",
    "    ax.text(\n",
    "        bar.get_x() + bar.get_width() / 2,\n",
    "        height,\n",
    "        f'{height:.1f}',\n",
    "        ha='center', va='bottom'\n",
    "    )\n",
    "\n",
    "plt.show()"
   ]
  },
  {
   "cell_type": "code",
   "execution_count": 110,
   "id": "cafbbf62-e89a-46e6-84ec-65beb60c649b",
   "metadata": {},
   "outputs": [
    {
     "data": {
      "text/plain": [
       "-0.004778628281117698"
      ]
     },
     "execution_count": 110,
     "metadata": {},
     "output_type": "execute_result"
    }
   ],
   "source": [
    "df_post['polarity_scores'].mean()"
   ]
  },
  {
   "cell_type": "code",
   "execution_count": 111,
   "id": "d4138474-866c-4cf0-974f-a2b67bb28335",
   "metadata": {},
   "outputs": [],
   "source": [
    "post_list = [score for score in df_post['polarity_scores']]\n",
    "\n",
    "def sign_counter(lst):\n",
    "    pos = 0\n",
    "    neg = 0\n",
    "    zer = 0\n",
    "    for num in lst:\n",
    "        if num > 0:\n",
    "            pos += 1\n",
    "        if num < 0:\n",
    "            neg += 1\n",
    "        if num == 0:\n",
    "            zer += 1\n",
    "    return (pos, neg, zer)"
   ]
  },
  {
   "cell_type": "code",
   "execution_count": 112,
   "id": "147c4a75-d7a2-44f9-9099-7c59e07e4958",
   "metadata": {},
   "outputs": [
    {
     "data": {
      "text/plain": [
       "(2281, 2323, 1301)"
      ]
     },
     "execution_count": 112,
     "metadata": {},
     "output_type": "execute_result"
    }
   ],
   "source": [
    "sign_counter(post_list)"
   ]
  },
  {
   "cell_type": "code",
   "execution_count": 113,
   "id": "c3d3d36a-41a1-4589-a235-b0efca1b84dd",
   "metadata": {},
   "outputs": [],
   "source": [
    "labels2 = 'Positive', 'Negative', 'Zero'\n",
    "sizes2 = [2281, 2323, 1301]\n",
    "colors2 = ['blue', 'red', 'gray']"
   ]
  },
  {
   "cell_type": "code",
   "execution_count": 114,
   "id": "846c963e-b710-4ce0-ad8e-c17556e6c80d",
   "metadata": {},
   "outputs": [
    {
     "data": {
      "image/png": "[encoded data removed]",
      "text/plain": [
       "<Figure size 640x480 with 1 Axes>"
      ]
     },
     "metadata": {},
     "output_type": "display_data"
    }
   ],
   "source": [
    "fig, ax = plt.subplots()\n",
    "ax.pie(sizes2, labels=labels2, autopct='%1.1f%%', colors=colors2)\n",
    "ax.set_title('Proportions of polarity scores after November 16th')\n",
    "plt.show()"
   ]
  }
 ],
 "metadata": {
  "kernelspec": {
   "display_name": "Python [conda env:base] *",
   "language": "python",
   "name": "conda-base-py"
  },
  "language_info": {
   "codemirror_mode": {
    "name": "ipython",
    "version": 3
   },
   "file_extension": ".py",
   "mimetype": "text/x-python",
   "name": "python",
   "nbconvert_exporter": "python",
   "pygments_lexer": "ipython3",
   "version": "3.12.7"
  }
 },
 "nbformat": 4,
 "nbformat_minor": 5
}

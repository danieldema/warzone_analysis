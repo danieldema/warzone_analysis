{
 "cells": [
  {
   "cell_type": "code",
   "execution_count": 62,
   "id": "32c81c76-fad6-4aac-abf7-194ad03fb24b",
   "metadata": {},
   "outputs": [
    {
     "name": "stderr",
     "output_type": "stream",
     "text": [
      "[nltk_data] Downloading package vader_lexicon to\n",
      "[nltk_data]     d:\\Daniel\\AppData\\Roaming\\nltk_data...\n",
      "[nltk_data]   Package vader_lexicon is already up-to-date!\n"
     ]
    }
   ],
   "source": [
    "import steamreviews\n",
    "import nltk\n",
    "import pandas as pd\n",
    "from nltk.sentiment import SentimentIntensityAnalyzer\n",
    "import matplotlib\n",
    "import matplotlib.pyplot as plt\n",
    "\n",
    "try:\n",
    "    nltk.data.find('sentiment/vader_lexicon')\n",
    "except LookupError:\n",
    "    nltk.download('vader_lexicon')\n",
    "\n",
    "import warnings\n",
    "warnings.simplefilter(action='ignore', category=pd.errors.SettingWithCopyWarning)\n",
    "warnings.simplefilter(action='ignore', category=FutureWarning)"
   ]
  },
  {
   "cell_type": "code",
   "execution_count": 64,
   "id": "f37ae270-e712-4fe9-bb72-502e21453f49",
   "metadata": {},
   "outputs": [],
   "source": [
    "app_id = 1962663"
   ]
  },
  {
   "cell_type": "code",
   "execution_count": 68,
   "id": "a0e3540b-7436-4a94-a8c8-ee879880079b",
   "metadata": {},
   "outputs": [
    {
     "name": "stdout",
     "output_type": "stream",
     "text": [
      "[appID = 1962663] expected #reviews = 44444\n",
      "Number of queries 150 reached. Cooldown: 310 seconds\n",
      "Number of queries 150 reached. Cooldown: 310 seconds\n"
     ]
    }
   ],
   "source": [
    "review_dict, query_count = steamreviews.download_reviews_for_app_id(app_id)"
   ]
  },
  {
   "cell_type": "code",
   "execution_count": 69,
   "id": "7e35a1a8-62f5-4f2b-93a8-c3245d15ccd9",
   "metadata": {},
   "outputs": [],
   "source": [
    "df = pd.DataFrame(review_dict['reviews']).T"
   ]
  },
  {
   "cell_type": "code",
   "execution_count": 70,
   "id": "879211ae-01e4-4f69-845a-31e2705d29ca",
   "metadata": {},
   "outputs": [
    {
     "data": {
      "text/html": [
       "<div>\n",
       "<style scoped>\n",
       "    .dataframe tbody tr th:only-of-type {\n",
       "        vertical-align: middle;\n",
       "    }\n",
       "\n",
       "    .dataframe tbody tr th {\n",
       "        vertical-align: top;\n",
       "    }\n",
       "\n",
       "    .dataframe thead th {\n",
       "        text-align: right;\n",
       "    }\n",
       "</style>\n",
       "<table border=\"1\" class=\"dataframe\">\n",
       "  <thead>\n",
       "    <tr style=\"text-align: right;\">\n",
       "      <th></th>\n",
       "      <th>recommendationid</th>\n",
       "      <th>author</th>\n",
       "      <th>language</th>\n",
       "      <th>review</th>\n",
       "      <th>timestamp_created</th>\n",
       "      <th>timestamp_updated</th>\n",
       "      <th>voted_up</th>\n",
       "      <th>votes_up</th>\n",
       "      <th>votes_funny</th>\n",
       "      <th>weighted_vote_score</th>\n",
       "      <th>comment_count</th>\n",
       "      <th>steam_purchase</th>\n",
       "      <th>received_for_free</th>\n",
       "      <th>written_during_early_access</th>\n",
       "      <th>primarily_steam_deck</th>\n",
       "    </tr>\n",
       "  </thead>\n",
       "  <tbody>\n",
       "    <tr>\n",
       "      <th>194707442</th>\n",
       "      <td>194707442</td>\n",
       "      <td>{'steamid': '76561198001047926', 'num_games_ow...</td>\n",
       "      <td>polish</td>\n",
       "      <td>bardzoi dobra kurla</td>\n",
       "      <td>1746990590</td>\n",
       "      <td>1746990590</td>\n",
       "      <td>True</td>\n",
       "      <td>0</td>\n",
       "      <td>0</td>\n",
       "      <td>0.5</td>\n",
       "      <td>0</td>\n",
       "      <td>False</td>\n",
       "      <td>False</td>\n",
       "      <td>False</td>\n",
       "      <td>False</td>\n",
       "    </tr>\n",
       "    <tr>\n",
       "      <th>194706811</th>\n",
       "      <td>194706811</td>\n",
       "      <td>{'steamid': '76561199803756401', 'num_games_ow...</td>\n",
       "      <td>english</td>\n",
       "      <td>i like graphics of this game</td>\n",
       "      <td>1746989968</td>\n",
       "      <td>1746989968</td>\n",
       "      <td>True</td>\n",
       "      <td>0</td>\n",
       "      <td>0</td>\n",
       "      <td>0.5</td>\n",
       "      <td>0</td>\n",
       "      <td>False</td>\n",
       "      <td>False</td>\n",
       "      <td>False</td>\n",
       "      <td>False</td>\n",
       "    </tr>\n",
       "    <tr>\n",
       "      <th>194706795</th>\n",
       "      <td>194706795</td>\n",
       "      <td>{'steamid': '76561199379516482', 'num_games_ow...</td>\n",
       "      <td>latam</td>\n",
       "      <td>Una pistola haciendome el amor, Nada nuevo</td>\n",
       "      <td>1746989954</td>\n",
       "      <td>1746989954</td>\n",
       "      <td>False</td>\n",
       "      <td>0</td>\n",
       "      <td>0</td>\n",
       "      <td>0.5</td>\n",
       "      <td>0</td>\n",
       "      <td>False</td>\n",
       "      <td>False</td>\n",
       "      <td>False</td>\n",
       "      <td>False</td>\n",
       "    </tr>\n",
       "    <tr>\n",
       "      <th>194706616</th>\n",
       "      <td>194706616</td>\n",
       "      <td>{'steamid': '76561199441508391', 'num_games_ow...</td>\n",
       "      <td>english</td>\n",
       "      <td>disgusting hot garbage i would rather eat some...</td>\n",
       "      <td>1746989819</td>\n",
       "      <td>1746989819</td>\n",
       "      <td>False</td>\n",
       "      <td>0</td>\n",
       "      <td>0</td>\n",
       "      <td>0.5</td>\n",
       "      <td>0</td>\n",
       "      <td>False</td>\n",
       "      <td>False</td>\n",
       "      <td>False</td>\n",
       "      <td>False</td>\n",
       "    </tr>\n",
       "    <tr>\n",
       "      <th>194706415</th>\n",
       "      <td>194706415</td>\n",
       "      <td>{'steamid': '76561198316470715', 'num_games_ow...</td>\n",
       "      <td>english</td>\n",
       "      <td>[h1]⚠️ Ricochet Windows Kernel Anti-Cheat requ...</td>\n",
       "      <td>1746989643</td>\n",
       "      <td>1746989643</td>\n",
       "      <td>False</td>\n",
       "      <td>0</td>\n",
       "      <td>0</td>\n",
       "      <td>0.5</td>\n",
       "      <td>0</td>\n",
       "      <td>True</td>\n",
       "      <td>False</td>\n",
       "      <td>False</td>\n",
       "      <td>False</td>\n",
       "    </tr>\n",
       "  </tbody>\n",
       "</table>\n",
       "</div>"
      ],
      "text/plain": [
       "          recommendationid                                             author  \\\n",
       "194707442        194707442  {'steamid': '76561198001047926', 'num_games_ow...   \n",
       "194706811        194706811  {'steamid': '76561199803756401', 'num_games_ow...   \n",
       "194706795        194706795  {'steamid': '76561199379516482', 'num_games_ow...   \n",
       "194706616        194706616  {'steamid': '76561199441508391', 'num_games_ow...   \n",
       "194706415        194706415  {'steamid': '76561198316470715', 'num_games_ow...   \n",
       "\n",
       "          language                                             review  \\\n",
       "194707442   polish                                bardzoi dobra kurla   \n",
       "194706811  english                       i like graphics of this game   \n",
       "194706795    latam         Una pistola haciendome el amor, Nada nuevo   \n",
       "194706616  english  disgusting hot garbage i would rather eat some...   \n",
       "194706415  english  [h1]⚠️ Ricochet Windows Kernel Anti-Cheat requ...   \n",
       "\n",
       "          timestamp_created timestamp_updated voted_up votes_up votes_funny  \\\n",
       "194707442        1746990590        1746990590     True        0           0   \n",
       "194706811        1746989968        1746989968     True        0           0   \n",
       "194706795        1746989954        1746989954    False        0           0   \n",
       "194706616        1746989819        1746989819    False        0           0   \n",
       "194706415        1746989643        1746989643    False        0           0   \n",
       "\n",
       "          weighted_vote_score comment_count steam_purchase received_for_free  \\\n",
       "194707442                 0.5             0          False             False   \n",
       "194706811                 0.5             0          False             False   \n",
       "194706795                 0.5             0          False             False   \n",
       "194706616                 0.5             0          False             False   \n",
       "194706415                 0.5             0           True             False   \n",
       "\n",
       "          written_during_early_access primarily_steam_deck  \n",
       "194707442                       False                False  \n",
       "194706811                       False                False  \n",
       "194706795                       False                False  \n",
       "194706616                       False                False  \n",
       "194706415                       False                False  "
      ]
     },
     "execution_count": 70,
     "metadata": {},
     "output_type": "execute_result"
    }
   ],
   "source": [
    "df.head()"
   ]
  },
  {
   "cell_type": "code",
   "execution_count": 71,
   "id": "78b7d81d-8eb7-4ad9-b293-ab8a672b7db5",
   "metadata": {},
   "outputs": [],
   "source": [
    "df['timestamp_created'] = pd.to_datetime(df['timestamp_created'], unit='s')"
   ]
  },
  {
   "cell_type": "code",
   "execution_count": 72,
   "id": "8156e918-7ecf-4903-9366-473fd3ad845f",
   "metadata": {},
   "outputs": [
    {
     "data": {
      "text/plain": [
       "(44451, 15)"
      ]
     },
     "execution_count": 72,
     "metadata": {},
     "output_type": "execute_result"
    }
   ],
   "source": [
    "df.shape"
   ]
  },
  {
   "cell_type": "code",
   "execution_count": 78,
   "id": "7daa4768-b464-47bd-b613-84d1562653a9",
   "metadata": {},
   "outputs": [],
   "source": [
    "df = df.loc[df['language'] == 'english']"
   ]
  },
  {
   "cell_type": "code",
   "execution_count": 80,
   "id": "ff2b129b-7986-4fc1-b890-5ee7c5a9905f",
   "metadata": {},
   "outputs": [
    {
     "data": {
      "text/plain": [
       "(18575, 15)"
      ]
     },
     "execution_count": 80,
     "metadata": {},
     "output_type": "execute_result"
    }
   ],
   "source": [
    "df.shape"
   ]
  },
  {
   "cell_type": "code",
   "execution_count": 82,
   "id": "c4aef444-9d68-4a55-9542-d4c08f75ebcb",
   "metadata": {},
   "outputs": [],
   "source": [
    "split_one = pd.to_datetime('2023-11-06 00:00:00')\n",
    "split_two = pd.to_datetime('2023-12-06 00:00:00')\n",
    "split_three = pd.to_datetime('2024-01-06 00:00:00')\n",
    "\n",
    "df_pre = df.loc[(df['timestamp_created'] >= split_one) & (df['timestamp_created'] < split_two)]\n",
    "df_post = df.loc[(df['timestamp_created'] >= split_two) & (df['timestamp_created'] < split_three)]"
   ]
  },
  {
   "cell_type": "code",
   "execution_count": 84,
   "id": "b13c583e-eb2f-4170-aea3-a9fb4d027f6b",
   "metadata": {},
   "outputs": [
    {
     "data": {
      "text/plain": [
       "(256, 15)"
      ]
     },
     "execution_count": 84,
     "metadata": {},
     "output_type": "execute_result"
    }
   ],
   "source": [
    "df_pre.shape"
   ]
  },
  {
   "cell_type": "code",
   "execution_count": 86,
   "id": "c2432cc1-7071-4c94-a5cf-844cbb1ff48a",
   "metadata": {},
   "outputs": [
    {
     "data": {
      "text/plain": [
       "(794, 15)"
      ]
     },
     "execution_count": 86,
     "metadata": {},
     "output_type": "execute_result"
    }
   ],
   "source": [
    "df_post.shape"
   ]
  },
  {
   "cell_type": "code",
   "execution_count": 88,
   "id": "421c5091-fd43-4b82-adda-f02df4c5fa7c",
   "metadata": {},
   "outputs": [
    {
     "data": {
      "text/html": [
       "<div>\n",
       "<style scoped>\n",
       "    .dataframe tbody tr th:only-of-type {\n",
       "        vertical-align: middle;\n",
       "    }\n",
       "\n",
       "    .dataframe tbody tr th {\n",
       "        vertical-align: top;\n",
       "    }\n",
       "\n",
       "    .dataframe thead th {\n",
       "        text-align: right;\n",
       "    }\n",
       "</style>\n",
       "<table border=\"1\" class=\"dataframe\">\n",
       "  <thead>\n",
       "    <tr style=\"text-align: right;\">\n",
       "      <th></th>\n",
       "      <th>recommendationid</th>\n",
       "      <th>author</th>\n",
       "      <th>language</th>\n",
       "      <th>review</th>\n",
       "      <th>timestamp_created</th>\n",
       "      <th>timestamp_updated</th>\n",
       "      <th>voted_up</th>\n",
       "      <th>votes_up</th>\n",
       "      <th>votes_funny</th>\n",
       "      <th>weighted_vote_score</th>\n",
       "      <th>comment_count</th>\n",
       "      <th>steam_purchase</th>\n",
       "      <th>received_for_free</th>\n",
       "      <th>written_during_early_access</th>\n",
       "      <th>primarily_steam_deck</th>\n",
       "    </tr>\n",
       "  </thead>\n",
       "  <tbody>\n",
       "    <tr>\n",
       "      <th>152944155</th>\n",
       "      <td>152944155</td>\n",
       "      <td>{'steamid': '76561199349026549', 'num_games_ow...</td>\n",
       "      <td>english</td>\n",
       "      <td>great game</td>\n",
       "      <td>2023-12-05 19:31:12</td>\n",
       "      <td>1701804672</td>\n",
       "      <td>True</td>\n",
       "      <td>0</td>\n",
       "      <td>0</td>\n",
       "      <td>0.436410874128341675</td>\n",
       "      <td>0</td>\n",
       "      <td>False</td>\n",
       "      <td>False</td>\n",
       "      <td>False</td>\n",
       "      <td>False</td>\n",
       "    </tr>\n",
       "    <tr>\n",
       "      <th>152937976</th>\n",
       "      <td>152937976</td>\n",
       "      <td>{'steamid': '76561198871864012', 'num_games_ow...</td>\n",
       "      <td>english</td>\n",
       "      <td>Best BR Game Of All Time</td>\n",
       "      <td>2023-12-05 17:33:04</td>\n",
       "      <td>1701797584</td>\n",
       "      <td>True</td>\n",
       "      <td>0</td>\n",
       "      <td>0</td>\n",
       "      <td>0.419101417064666748</td>\n",
       "      <td>0</td>\n",
       "      <td>True</td>\n",
       "      <td>False</td>\n",
       "      <td>False</td>\n",
       "      <td>False</td>\n",
       "    </tr>\n",
       "    <tr>\n",
       "      <th>152936944</th>\n",
       "      <td>152936944</td>\n",
       "      <td>{'steamid': '76561198109194607', 'num_games_ow...</td>\n",
       "      <td>english</td>\n",
       "      <td>Activision is bad.</td>\n",
       "      <td>2023-12-05 17:13:11</td>\n",
       "      <td>1701796391</td>\n",
       "      <td>False</td>\n",
       "      <td>7</td>\n",
       "      <td>0</td>\n",
       "      <td>0.544583559036254883</td>\n",
       "      <td>0</td>\n",
       "      <td>False</td>\n",
       "      <td>False</td>\n",
       "      <td>False</td>\n",
       "      <td>False</td>\n",
       "    </tr>\n",
       "    <tr>\n",
       "      <th>152928766</th>\n",
       "      <td>152928766</td>\n",
       "      <td>{'steamid': '76561199198133124', 'num_games_ow...</td>\n",
       "      <td>english</td>\n",
       "      <td>Chicken</td>\n",
       "      <td>2023-12-05 14:50:55</td>\n",
       "      <td>1701787855</td>\n",
       "      <td>False</td>\n",
       "      <td>2</td>\n",
       "      <td>2</td>\n",
       "      <td>0.48511013388633728</td>\n",
       "      <td>0</td>\n",
       "      <td>False</td>\n",
       "      <td>False</td>\n",
       "      <td>False</td>\n",
       "      <td>False</td>\n",
       "    </tr>\n",
       "    <tr>\n",
       "      <th>152906482</th>\n",
       "      <td>152906482</td>\n",
       "      <td>{'steamid': '76561199052240720', 'num_games_ow...</td>\n",
       "      <td>english</td>\n",
       "      <td>No aguardo do Warzone III</td>\n",
       "      <td>2023-12-05 04:26:02</td>\n",
       "      <td>1701750362</td>\n",
       "      <td>True</td>\n",
       "      <td>0</td>\n",
       "      <td>0</td>\n",
       "      <td>0.5</td>\n",
       "      <td>0</td>\n",
       "      <td>False</td>\n",
       "      <td>False</td>\n",
       "      <td>False</td>\n",
       "      <td>False</td>\n",
       "    </tr>\n",
       "  </tbody>\n",
       "</table>\n",
       "</div>"
      ],
      "text/plain": [
       "          recommendationid                                             author  \\\n",
       "152944155        152944155  {'steamid': '76561199349026549', 'num_games_ow...   \n",
       "152937976        152937976  {'steamid': '76561198871864012', 'num_games_ow...   \n",
       "152936944        152936944  {'steamid': '76561198109194607', 'num_games_ow...   \n",
       "152928766        152928766  {'steamid': '76561199198133124', 'num_games_ow...   \n",
       "152906482        152906482  {'steamid': '76561199052240720', 'num_games_ow...   \n",
       "\n",
       "          language                     review   timestamp_created  \\\n",
       "152944155  english                 great game 2023-12-05 19:31:12   \n",
       "152937976  english   Best BR Game Of All Time 2023-12-05 17:33:04   \n",
       "152936944  english         Activision is bad. 2023-12-05 17:13:11   \n",
       "152928766  english                    Chicken 2023-12-05 14:50:55   \n",
       "152906482  english  No aguardo do Warzone III 2023-12-05 04:26:02   \n",
       "\n",
       "          timestamp_updated voted_up votes_up votes_funny  \\\n",
       "152944155        1701804672     True        0           0   \n",
       "152937976        1701797584     True        0           0   \n",
       "152936944        1701796391    False        7           0   \n",
       "152928766        1701787855    False        2           2   \n",
       "152906482        1701750362     True        0           0   \n",
       "\n",
       "            weighted_vote_score comment_count steam_purchase  \\\n",
       "152944155  0.436410874128341675             0          False   \n",
       "152937976  0.419101417064666748             0           True   \n",
       "152936944  0.544583559036254883             0          False   \n",
       "152928766   0.48511013388633728             0          False   \n",
       "152906482                   0.5             0          False   \n",
       "\n",
       "          received_for_free written_during_early_access primarily_steam_deck  \n",
       "152944155             False                       False                False  \n",
       "152937976             False                       False                False  \n",
       "152936944             False                       False                False  \n",
       "152928766             False                       False                False  \n",
       "152906482             False                       False                False  "
      ]
     },
     "execution_count": 88,
     "metadata": {},
     "output_type": "execute_result"
    }
   ],
   "source": [
    "df_pre.head()"
   ]
  },
  {
   "cell_type": "code",
   "execution_count": 90,
   "id": "ec669ba2-e946-4960-8f4e-35034b169f55",
   "metadata": {},
   "outputs": [
    {
     "data": {
      "text/html": [
       "<div>\n",
       "<style scoped>\n",
       "    .dataframe tbody tr th:only-of-type {\n",
       "        vertical-align: middle;\n",
       "    }\n",
       "\n",
       "    .dataframe tbody tr th {\n",
       "        vertical-align: top;\n",
       "    }\n",
       "\n",
       "    .dataframe thead th {\n",
       "        text-align: right;\n",
       "    }\n",
       "</style>\n",
       "<table border=\"1\" class=\"dataframe\">\n",
       "  <thead>\n",
       "    <tr style=\"text-align: right;\">\n",
       "      <th></th>\n",
       "      <th>recommendationid</th>\n",
       "      <th>author</th>\n",
       "      <th>language</th>\n",
       "      <th>review</th>\n",
       "      <th>timestamp_created</th>\n",
       "      <th>timestamp_updated</th>\n",
       "      <th>voted_up</th>\n",
       "      <th>votes_up</th>\n",
       "      <th>votes_funny</th>\n",
       "      <th>weighted_vote_score</th>\n",
       "      <th>comment_count</th>\n",
       "      <th>steam_purchase</th>\n",
       "      <th>received_for_free</th>\n",
       "      <th>written_during_early_access</th>\n",
       "      <th>primarily_steam_deck</th>\n",
       "    </tr>\n",
       "  </thead>\n",
       "  <tbody>\n",
       "    <tr>\n",
       "      <th>155346298</th>\n",
       "      <td>155346298</td>\n",
       "      <td>{'steamid': '76561199056398604', 'num_games_ow...</td>\n",
       "      <td>english</td>\n",
       "      <td>prepare to get absolutely bummed</td>\n",
       "      <td>2024-01-05 23:43:44</td>\n",
       "      <td>1736024835</td>\n",
       "      <td>True</td>\n",
       "      <td>0</td>\n",
       "      <td>1</td>\n",
       "      <td>0.37642592191696167</td>\n",
       "      <td>0</td>\n",
       "      <td>False</td>\n",
       "      <td>False</td>\n",
       "      <td>False</td>\n",
       "      <td>False</td>\n",
       "    </tr>\n",
       "    <tr>\n",
       "      <th>155342659</th>\n",
       "      <td>155342659</td>\n",
       "      <td>{'steamid': '76561198007907116', 'num_games_ow...</td>\n",
       "      <td>english</td>\n",
       "      <td>The game is nice and cool but the fact that it...</td>\n",
       "      <td>2024-01-05 22:43:47</td>\n",
       "      <td>1704494627</td>\n",
       "      <td>False</td>\n",
       "      <td>2</td>\n",
       "      <td>0</td>\n",
       "      <td>0.5</td>\n",
       "      <td>0</td>\n",
       "      <td>False</td>\n",
       "      <td>False</td>\n",
       "      <td>False</td>\n",
       "      <td>False</td>\n",
       "    </tr>\n",
       "    <tr>\n",
       "      <th>155333744</th>\n",
       "      <td>155333744</td>\n",
       "      <td>{'steamid': '76561199479739367', 'num_games_ow...</td>\n",
       "      <td>english</td>\n",
       "      <td>biggest piece of shit game ever created and it...</td>\n",
       "      <td>2024-01-05 20:26:05</td>\n",
       "      <td>1704486365</td>\n",
       "      <td>False</td>\n",
       "      <td>3</td>\n",
       "      <td>0</td>\n",
       "      <td>0.520176887512207031</td>\n",
       "      <td>0</td>\n",
       "      <td>False</td>\n",
       "      <td>False</td>\n",
       "      <td>False</td>\n",
       "      <td>False</td>\n",
       "    </tr>\n",
       "    <tr>\n",
       "      <th>155332646</th>\n",
       "      <td>155332646</td>\n",
       "      <td>{'steamid': '76561198024903558', 'num_games_ow...</td>\n",
       "      <td>english</td>\n",
       "      <td>Couldnt play this game despite having a build ...</td>\n",
       "      <td>2024-01-05 20:09:20</td>\n",
       "      <td>1704485360</td>\n",
       "      <td>False</td>\n",
       "      <td>1</td>\n",
       "      <td>0</td>\n",
       "      <td>0.5</td>\n",
       "      <td>0</td>\n",
       "      <td>False</td>\n",
       "      <td>False</td>\n",
       "      <td>False</td>\n",
       "      <td>False</td>\n",
       "    </tr>\n",
       "    <tr>\n",
       "      <th>155331441</th>\n",
       "      <td>155331441</td>\n",
       "      <td>{'steamid': '76561199010215648', 'num_games_ow...</td>\n",
       "      <td>english</td>\n",
       "      <td>Its Cod BR</td>\n",
       "      <td>2024-01-05 19:50:20</td>\n",
       "      <td>1704484220</td>\n",
       "      <td>True</td>\n",
       "      <td>1</td>\n",
       "      <td>0</td>\n",
       "      <td>0.5</td>\n",
       "      <td>0</td>\n",
       "      <td>False</td>\n",
       "      <td>False</td>\n",
       "      <td>False</td>\n",
       "      <td>False</td>\n",
       "    </tr>\n",
       "  </tbody>\n",
       "</table>\n",
       "</div>"
      ],
      "text/plain": [
       "          recommendationid                                             author  \\\n",
       "155346298        155346298  {'steamid': '76561199056398604', 'num_games_ow...   \n",
       "155342659        155342659  {'steamid': '76561198007907116', 'num_games_ow...   \n",
       "155333744        155333744  {'steamid': '76561199479739367', 'num_games_ow...   \n",
       "155332646        155332646  {'steamid': '76561198024903558', 'num_games_ow...   \n",
       "155331441        155331441  {'steamid': '76561199010215648', 'num_games_ow...   \n",
       "\n",
       "          language                                             review  \\\n",
       "155346298  english                   prepare to get absolutely bummed   \n",
       "155342659  english  The game is nice and cool but the fact that it...   \n",
       "155333744  english  biggest piece of shit game ever created and it...   \n",
       "155332646  english  Couldnt play this game despite having a build ...   \n",
       "155331441  english                                         Its Cod BR   \n",
       "\n",
       "            timestamp_created timestamp_updated voted_up votes_up votes_funny  \\\n",
       "155346298 2024-01-05 23:43:44        1736024835     True        0           1   \n",
       "155342659 2024-01-05 22:43:47        1704494627    False        2           0   \n",
       "155333744 2024-01-05 20:26:05        1704486365    False        3           0   \n",
       "155332646 2024-01-05 20:09:20        1704485360    False        1           0   \n",
       "155331441 2024-01-05 19:50:20        1704484220     True        1           0   \n",
       "\n",
       "            weighted_vote_score comment_count steam_purchase  \\\n",
       "155346298   0.37642592191696167             0          False   \n",
       "155342659                   0.5             0          False   \n",
       "155333744  0.520176887512207031             0          False   \n",
       "155332646                   0.5             0          False   \n",
       "155331441                   0.5             0          False   \n",
       "\n",
       "          received_for_free written_during_early_access primarily_steam_deck  \n",
       "155346298             False                       False                False  \n",
       "155342659             False                       False                False  \n",
       "155333744             False                       False                False  \n",
       "155332646             False                       False                False  \n",
       "155331441             False                       False                False  "
      ]
     },
     "execution_count": 90,
     "metadata": {},
     "output_type": "execute_result"
    }
   ],
   "source": [
    "df_post.head()"
   ]
  },
  {
   "cell_type": "code",
   "execution_count": 92,
   "id": "75d0c513-48e5-4a98-9061-c0db09ce213a",
   "metadata": {},
   "outputs": [],
   "source": [
    "analyzer = SentimentIntensityAnalyzer()"
   ]
  },
  {
   "cell_type": "code",
   "execution_count": 94,
   "id": "d3d9594a-baf2-47be-92f0-ecec61c1c0ff",
   "metadata": {},
   "outputs": [],
   "source": [
    "df_pre['polarity_scores'] = [analyzer.polarity_scores(text)['compound'] for text in df_pre['review']]"
   ]
  },
  {
   "cell_type": "code",
   "execution_count": 96,
   "id": "015800e8-6e89-409f-b3c5-de329eef1d85",
   "metadata": {},
   "outputs": [],
   "source": [
    "df_post['polarity_scores'] = [analyzer.polarity_scores(text)['compound'] for text in df_post['review']]"
   ]
  },
  {
   "cell_type": "code",
   "execution_count": 98,
   "id": "de0863ec-0e66-4719-84f5-f1faf1f940d8",
   "metadata": {},
   "outputs": [],
   "source": [
    "df_pre['voted_up'] = df_pre['voted_up'].replace({True : 0, False : 1})\n",
    "df_post['voted_up'] = df_post['voted_up'].replace({True : 0, False : 1})"
   ]
  },
  {
   "cell_type": "code",
   "execution_count": 100,
   "id": "bf9f1700-c6fc-435a-b8eb-c0c8bfd77dc4",
   "metadata": {},
   "outputs": [
    {
     "data": {
      "text/html": [
       "<div>\n",
       "<style scoped>\n",
       "    .dataframe tbody tr th:only-of-type {\n",
       "        vertical-align: middle;\n",
       "    }\n",
       "\n",
       "    .dataframe tbody tr th {\n",
       "        vertical-align: top;\n",
       "    }\n",
       "\n",
       "    .dataframe thead th {\n",
       "        text-align: right;\n",
       "    }\n",
       "</style>\n",
       "<table border=\"1\" class=\"dataframe\">\n",
       "  <thead>\n",
       "    <tr style=\"text-align: right;\">\n",
       "      <th></th>\n",
       "      <th>voted_up</th>\n",
       "      <th>polarity_scores</th>\n",
       "    </tr>\n",
       "  </thead>\n",
       "  <tbody>\n",
       "    <tr>\n",
       "      <th>voted_up</th>\n",
       "      <td>1.000000</td>\n",
       "      <td>-0.441545</td>\n",
       "    </tr>\n",
       "    <tr>\n",
       "      <th>polarity_scores</th>\n",
       "      <td>-0.441545</td>\n",
       "      <td>1.000000</td>\n",
       "    </tr>\n",
       "  </tbody>\n",
       "</table>\n",
       "</div>"
      ],
      "text/plain": [
       "                 voted_up  polarity_scores\n",
       "voted_up         1.000000        -0.441545\n",
       "polarity_scores -0.441545         1.000000"
      ]
     },
     "execution_count": 100,
     "metadata": {},
     "output_type": "execute_result"
    }
   ],
   "source": [
    "df_pre[['voted_up', 'polarity_scores']].corr(method = 'pearson')"
   ]
  },
  {
   "cell_type": "code",
   "execution_count": 102,
   "id": "046c2caa-ec2f-45de-81d5-ddf30e9ab667",
   "metadata": {},
   "outputs": [
    {
     "data": {
      "text/html": [
       "<div>\n",
       "<style scoped>\n",
       "    .dataframe tbody tr th:only-of-type {\n",
       "        vertical-align: middle;\n",
       "    }\n",
       "\n",
       "    .dataframe tbody tr th {\n",
       "        vertical-align: top;\n",
       "    }\n",
       "\n",
       "    .dataframe thead th {\n",
       "        text-align: right;\n",
       "    }\n",
       "</style>\n",
       "<table border=\"1\" class=\"dataframe\">\n",
       "  <thead>\n",
       "    <tr style=\"text-align: right;\">\n",
       "      <th></th>\n",
       "      <th>voted_up</th>\n",
       "      <th>polarity_scores</th>\n",
       "    </tr>\n",
       "  </thead>\n",
       "  <tbody>\n",
       "    <tr>\n",
       "      <th>voted_up</th>\n",
       "      <td>1.000000</td>\n",
       "      <td>-0.315395</td>\n",
       "    </tr>\n",
       "    <tr>\n",
       "      <th>polarity_scores</th>\n",
       "      <td>-0.315395</td>\n",
       "      <td>1.000000</td>\n",
       "    </tr>\n",
       "  </tbody>\n",
       "</table>\n",
       "</div>"
      ],
      "text/plain": [
       "                 voted_up  polarity_scores\n",
       "voted_up         1.000000        -0.315395\n",
       "polarity_scores -0.315395         1.000000"
      ]
     },
     "execution_count": 102,
     "metadata": {},
     "output_type": "execute_result"
    }
   ],
   "source": [
    "df_post[['voted_up', 'polarity_scores']].corr(method = 'pearson')"
   ]
  },
  {
   "cell_type": "code",
   "execution_count": 104,
   "id": "7f98b232-c267-40cb-8e95-31d621b2ac97",
   "metadata": {},
   "outputs": [
    {
     "data": {
      "text/plain": [
       "voted_up\n",
       "1    166\n",
       "0     90\n",
       "Name: count, dtype: int64"
      ]
     },
     "execution_count": 104,
     "metadata": {},
     "output_type": "execute_result"
    }
   ],
   "source": [
    "df_pre['voted_up'].value_counts()"
   ]
  },
  {
   "cell_type": "code",
   "execution_count": 106,
   "id": "a27ec3a3-cc8b-4703-90a6-e2488abb0d78",
   "metadata": {},
   "outputs": [],
   "source": [
    "labels = 'Recommended', 'Not Recommended'\n",
    "sizes1 = [df_pre['voted_up'].value_counts()[0], df_pre['voted_up'].value_counts()[1]]\n",
    "sizes2 = [df_post['voted_up'].value_counts()[0], df_post['voted_up'].value_counts()[1]]\n",
    "colors = ['blue', 'red']"
   ]
  },
  {
   "cell_type": "code",
   "execution_count": 110,
   "id": "51b22a96-4a25-4a37-bf9b-93a659b2fa48",
   "metadata": {},
   "outputs": [
    {
     "data": {
      "image/png": "[encoded data removed]",
      "text/plain": [
       "<Figure size 640x480 with 1 Axes>"
      ]
     },
     "metadata": {},
     "output_type": "display_data"
    }
   ],
   "source": [
    "fig, ax = plt.subplots()\n",
    "ax.pie(sizes1, labels=labels, autopct='%1.1f%%', colors=colors)\n",
    "ax.set_title('Proportion of recommendations prior to December 6th')\n",
    "plt.show()"
   ]
  },
  {
   "cell_type": "code",
   "execution_count": 114,
   "id": "4e16f467-957a-4380-b613-a999fdbccb2e",
   "metadata": {},
   "outputs": [
    {
     "data": {
      "image/png": "[encoded data removed]",
      "text/plain": [
       "<Figure size 640x480 with 1 Axes>"
      ]
     },
     "metadata": {},
     "output_type": "display_data"
    }
   ],
   "source": [
    "fig, ax = plt.subplots()\n",
    "ax.pie(sizes2, labels=labels, autopct='%1.1f%%', colors=colors)\n",
    "ax.set_title('Proportion of recommendations after December 6th')\n",
    "plt.show()"
   ]
  },
  {
   "cell_type": "code",
   "execution_count": 116,
   "id": "55e78a3c-109c-4525-8bae-5a6fc3d3b456",
   "metadata": {},
   "outputs": [],
   "source": [
    "cats = ['Recommended', 'Not Recommended']"
   ]
  },
  {
   "cell_type": "code",
   "execution_count": 120,
   "id": "af43e868-e17c-46f4-974c-613c9fbd6de8",
   "metadata": {},
   "outputs": [
    {
     "data": {
      "image/png": "[encoded data removed]",
      "text/plain": [
       "<Figure size 640x480 with 1 Axes>"
      ]
     },
     "metadata": {},
     "output_type": "display_data"
    }
   ],
   "source": [
    "fig, ax = plt.subplots()\n",
    "ax.bar(cats, sizes1)\n",
    "bars = ax.bar(cats, sizes1, color = colors)\n",
    "\n",
    "ax.set_title('Number of recommendations and non-recommendations prior to December 6th')\n",
    "\n",
    "for bar in bars:\n",
    "    height = bar.get_height()\n",
    "    ax.text(\n",
    "        bar.get_x() + bar.get_width() / 2,\n",
    "        height,\n",
    "        f'{height:.1f}',\n",
    "        ha='center', va='bottom'\n",
    "    )\n",
    "\n",
    "plt.show()"
   ]
  },
  {
   "cell_type": "code",
   "execution_count": 122,
   "id": "64172059-d994-4012-9133-797a2d176114",
   "metadata": {},
   "outputs": [
    {
     "data": {
      "image/png": "[encoded data removed]",
      "text/plain": [
       "<Figure size 640x480 with 1 Axes>"
      ]
     },
     "metadata": {},
     "output_type": "display_data"
    }
   ],
   "source": [
    "fig, ax = plt.subplots()\n",
    "ax.bar(cats, sizes1)\n",
    "bars = ax.bar(cats, sizes2, color = colors)\n",
    "\n",
    "ax.set_title('Number of recommendations and non-recommendations after December 6th')\n",
    "\n",
    "for bar in bars:\n",
    "    height = bar.get_height()\n",
    "    ax.text(\n",
    "        bar.get_x() + bar.get_width() / 2,\n",
    "        height,\n",
    "        f'{height:.1f}',\n",
    "        ha='center', va='bottom'\n",
    "    )\n",
    "\n",
    "plt.show()"
   ]
  },
  {
   "cell_type": "code",
   "execution_count": 124,
   "id": "ff3c8c65-8200-48fa-91c0-8b482bafb8a4",
   "metadata": {},
   "outputs": [
    {
     "data": {
      "text/plain": [
       "2.033333333333333"
      ]
     },
     "execution_count": 124,
     "metadata": {},
     "output_type": "execute_result"
    }
   ],
   "source": [
    "183/90"
   ]
  },
  {
   "cell_type": "code",
   "execution_count": 126,
   "id": "5530accc-4b5c-49ea-b950-7af456b7ea42",
   "metadata": {},
   "outputs": [
    {
     "data": {
      "text/plain": [
       "3.680722891566265"
      ]
     },
     "execution_count": 126,
     "metadata": {},
     "output_type": "execute_result"
    }
   ],
   "source": [
    "611/166"
   ]
  },
  {
   "cell_type": "code",
   "execution_count": 128,
   "id": "d059a415-590d-4a9d-be96-1f0d236a384a",
   "metadata": {},
   "outputs": [
    {
     "data": {
      "text/plain": [
       "-0.029147656250000004"
      ]
     },
     "execution_count": 128,
     "metadata": {},
     "output_type": "execute_result"
    }
   ],
   "source": [
    "df_pre['polarity_scores'].mean()"
   ]
  },
  {
   "cell_type": "code",
   "execution_count": 130,
   "id": "41aa1039-8ecb-45f6-a6d5-b49d0fd65b3e",
   "metadata": {},
   "outputs": [
    {
     "data": {
      "text/plain": [
       "-0.0986772040302267"
      ]
     },
     "execution_count": 130,
     "metadata": {},
     "output_type": "execute_result"
    }
   ],
   "source": [
    "df_post['polarity_scores'].mean()"
   ]
  },
  {
   "cell_type": "code",
   "execution_count": 132,
   "id": "bec1ab70-a481-41bc-9f40-71f1205fb444",
   "metadata": {},
   "outputs": [],
   "source": [
    "pre_list = [score for score in df_pre['polarity_scores']]\n",
    "post_list = [score for score in df_post['polarity_scores']]\n",
    "\n",
    "def sign_counter(lst):\n",
    "    pos = 0\n",
    "    neg = 0\n",
    "    zer = 0\n",
    "    for num in lst:\n",
    "        if num > 0:\n",
    "            pos += 1\n",
    "        if num < 0:\n",
    "            neg += 1\n",
    "        if num == 0:\n",
    "            zer += 1\n",
    "    return (pos, neg, zer)"
   ]
  },
  {
   "cell_type": "code",
   "execution_count": 134,
   "id": "cb092a93-d4e5-4cae-8eaa-6eec702cc444",
   "metadata": {},
   "outputs": [
    {
     "data": {
      "text/plain": [
       "(84, 96, 76)"
      ]
     },
     "execution_count": 134,
     "metadata": {},
     "output_type": "execute_result"
    }
   ],
   "source": [
    "sign_counter(pre_list)"
   ]
  },
  {
   "cell_type": "code",
   "execution_count": 136,
   "id": "8b7381a2-9715-45a7-9128-57ad33edf2d0",
   "metadata": {},
   "outputs": [
    {
     "data": {
      "text/plain": [
       "(235, 351, 208)"
      ]
     },
     "execution_count": 136,
     "metadata": {},
     "output_type": "execute_result"
    }
   ],
   "source": [
    "sign_counter(post_list)"
   ]
  },
  {
   "cell_type": "code",
   "execution_count": 138,
   "id": "eae1da0d-d4d2-4244-8b00-b15023106c85",
   "metadata": {},
   "outputs": [
    {
     "data": {
      "text/plain": [
       "2.7976190476190474"
      ]
     },
     "execution_count": 138,
     "metadata": {},
     "output_type": "execute_result"
    }
   ],
   "source": [
    "235/84"
   ]
  },
  {
   "cell_type": "code",
   "execution_count": 140,
   "id": "87c90ac5-5266-4706-8485-38bd98eb5562",
   "metadata": {},
   "outputs": [
    {
     "data": {
      "text/plain": [
       "3.65625"
      ]
     },
     "execution_count": 140,
     "metadata": {},
     "output_type": "execute_result"
    }
   ],
   "source": [
    "351/96"
   ]
  },
  {
   "cell_type": "code",
   "execution_count": 142,
   "id": "62b26051-8eb7-45e1-be1b-e6e11b00b98d",
   "metadata": {},
   "outputs": [
    {
     "data": {
      "text/plain": [
       "2.736842105263158"
      ]
     },
     "execution_count": 142,
     "metadata": {},
     "output_type": "execute_result"
    }
   ],
   "source": [
    "208/76"
   ]
  },
  {
   "cell_type": "code",
   "execution_count": 152,
   "id": "db683b35-3420-4870-9ae0-3a37f455d5a5",
   "metadata": {},
   "outputs": [],
   "source": [
    "labels2 = 'Positive', 'Negative', 'Zero'\n",
    "sizes3 = [84, 96, 76]\n",
    "sizes4 = [235, 351, 208]\n",
    "colors2 = ['blue', 'red', 'gray']"
   ]
  },
  {
   "cell_type": "code",
   "execution_count": 154,
   "id": "3e874aa5-e70e-438b-8507-dc04561d054d",
   "metadata": {},
   "outputs": [
    {
     "data": {
      "image/png": "[encoded data removed]",
      "text/plain": [
       "<Figure size 640x480 with 1 Axes>"
      ]
     },
     "metadata": {},
     "output_type": "display_data"
    }
   ],
   "source": [
    "fig, ax = plt.subplots()\n",
    "ax.pie(sizes3, labels=labels2, autopct='%1.1f%%', colors=colors2)\n",
    "ax.set_title('Proportions of polarity scores prior to December 6th')\n",
    "plt.show()"
   ]
  },
  {
   "cell_type": "code",
   "execution_count": 156,
   "id": "4580772f-cdda-4a57-a6cc-b7672348a8d6",
   "metadata": {},
   "outputs": [
    {
     "data": {
      "image/png": "[encoded data removed]",
      "text/plain": [
       "<Figure size 640x480 with 1 Axes>"
      ]
     },
     "metadata": {},
     "output_type": "display_data"
    }
   ],
   "source": [
    "fig, ax = plt.subplots()\n",
    "ax.pie(sizes4, labels=labels2, autopct='%1.1f%%', colors=colors2)\n",
    "ax.set_title('Proportions of polarity scores after December 6th')\n",
    "plt.show()"
   ]
  }
 ],
 "metadata": {
  "kernelspec": {
   "display_name": "Python [conda env:base] *",
   "language": "python",
   "name": "conda-base-py"
  },
  "language_info": {
   "codemirror_mode": {
    "name": "ipython",
    "version": 3
   },
   "file_extension": ".py",
   "mimetype": "text/x-python",
   "name": "python",
   "nbconvert_exporter": "python",
   "pygments_lexer": "ipython3",
   "version": "3.12.7"
  }
 },
 "nbformat": 4,
 "nbformat_minor": 5
}
